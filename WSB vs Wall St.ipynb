{
 "cells": [
  {
   "cell_type": "markdown",
   "metadata": {},
   "source": [
    "## Dummy Investing 101: Learn from the ‘Best’ or the ‘Bets’?\n",
    "#### Authors: Chengxiaoyuan Wang, Jiahao Wang, Sihao Wang, Peiyao Wu, Chenyuan Zheng"
   ]
  },
  {
   "cell_type": "markdown",
   "metadata": {},
   "source": [
    "### Part I --- 13F Scraper + Backtest"
   ]
  },
  {
   "cell_type": "markdown",
   "metadata": {},
   "source": [
    "#### Package Set-up for 13F scraper and backtest"
   ]
  },
  {
   "cell_type": "code",
   "execution_count": 17,
   "metadata": {
    "id": "7f228e51"
   },
   "outputs": [],
   "source": [
    "#Import libraries for scraper\n",
    "import re\n",
    "import time\n",
    "from bs4 import BeautifulSoup\n",
    "import requests\n",
    "import os\n",
    "import random as random\n",
    "\n",
    "from urllib.request import urlretrieve\n",
    "from selenium import webdriver\n",
    "from selenium.webdriver.chrome.service import Service\n",
    "from selenium.webdriver.common.by import By\n",
    "from selenium.common.exceptions import NoSuchElementException\n",
    "from selenium.webdriver.common.keys import Keys"
   ]
  },
  {
   "cell_type": "code",
   "execution_count": 3,
   "metadata": {},
   "outputs": [],
   "source": [
    "#Import libraries for ticker finder and backtest\n",
    "import pandas as pd\n",
    "from fuzzywuzzy import fuzz\n",
    "import yfinance as yf  \n",
    "import matplotlib.pyplot as plt\n",
    "import numpy as np\n"
   ]
  },
  {
   "cell_type": "markdown",
   "metadata": {},
   "source": [
    "#### 13F Scaper"
   ]
  },
  {
   "cell_type": "code",
   "execution_count": 5,
   "metadata": {},
   "outputs": [],
   "source": [
    "#Retrieve 13Fs from sec.gov and process data for portfolio construction\n",
    "def sec13f_scraper(names):\n",
    "    pageLink = 'https://www.sec.gov/edgar/search/#'\n",
    "    path = \"chromedriver\"\n",
    "    browser = webdriver.Chrome(path)\n",
    "    browser.get(pageLink)\n",
    "    # open browser\n",
    "    browser.find_element(By.XPATH,'//a[@class=\"text-white\"]').click()\n",
    "    time.sleep(1)\n",
    "    #Set up HTTP Header User Agent and Proxies Pool to bypass SEC's anti-scraping system\n",
    "    header = {\"User-Agent\": \"Mozilla/5.0 (X11; Linux x86_64) AppleWebKit/537.36 (KHTML, like Gecko) Chrome/50.0.2661.75 Safari/537.36\",\n",
    "             \"X-Requested-With\": \"XMLHttpRequest\"}\n",
    "    \n",
    "    #Import proxies list and adjust it for our usage\n",
    "    proxy=open('http_proxies.txt','r')\n",
    "    proxyt=proxy.read()\n",
    "    proxy_list=proxyt.split(\"\\n\")\n",
    "    for i in range(0,99):\n",
    "        proxy_list[i]='http://'+proxy_list[i]\n",
    "    \n",
    "    #Initiate inputs for SEC EDGAR advanced search bar\n",
    "    form='13F HR'\n",
    "    startdate = '2016-01-01'\n",
    "    search_doc = '//input[@class=\"company form-control border-onfocus hide-on-short-form text-black\"]'\n",
    "    search_name = \"//input[@class='entity form-control border-onfocus text-black hide-on-short-form']\"\n",
    "    date_from = '//input[@class=\"form-control border-onfocus hide-on-short-form text-black hasDatepicker\"]'\n",
    "    \n",
    "    #Initiate row counter\n",
    "    row = 0\n",
    "    \n",
    "    #Initiate empty lists for issuer names\n",
    "    Q1_2016=[]\n",
    "    Q2_2016=[]\n",
    "    Q3_2016=[]\n",
    "    Q4_2016=[]\n",
    "    Q1_2018=[]\n",
    "    Q2_2018=[]\n",
    "    Q3_2018=[]\n",
    "    Q4_2018=[]\n",
    "    Q1_2020=[]\n",
    "    Q2_2020=[]\n",
    "    Q3_2020=[]\n",
    "    Q4_2020=[]\n",
    "    \n",
    "    #Scraping starts\n",
    "    for n in names:\n",
    "        row = 0\n",
    "        #Input values: name, document, date\n",
    "        #Clear previous input in names\n",
    "        for i in range(0,50):\n",
    "            browser.find_element(By.XPATH,search_name).send_keys(Keys.BACKSPACE)\n",
    "        time.sleep(random.randint(1,3))\n",
    "        #Enter names\n",
    "        browser.find_element(By.XPATH,search_name).send_keys(n)\n",
    "        time.sleep(random.randint(2,4))\n",
    "        #Clear previous input in doc type\n",
    "        for i in range(0,8):\n",
    "            browser.find_element(By.XPATH,search_doc).send_keys(Keys.BACKSPACE)\n",
    "        time.sleep(random.randint(3,8))\n",
    "        #Enter doc type\n",
    "        browser.find_element(By.XPATH,search_doc).send_keys(form)\n",
    "        time.sleep(random.randint(2,4))\n",
    "        #Clear previous input in date\n",
    "        for i in range(0,11):\n",
    "            browser.find_element(By.XPATH,date_from).send_keys(Keys.BACKSPACE)\n",
    "        time.sleep(random.randint(3,6))\n",
    "        #Enter date and return result\n",
    "        browser.find_element(By.XPATH,date_from).send_keys(startdate)\n",
    "        browser.find_element(By.XPATH,date_from).send_keys(Keys.RETURN)\n",
    "        time.sleep(random.randint(1,3))\n",
    "        browser.find_element(By.XPATH,'//button[@id=\"search\"]').click()\n",
    "        time.sleep(random.randint(7,10))\n",
    "\n",
    "        #Collect all related information about the documents(date, entity name)\n",
    "        page_source = browser.page_source\n",
    "        soup = BeautifulSoup(page_source, 'lxml')\n",
    "        filling=soup.find_all('td',class_='filed')\n",
    "        reporting = soup.find_all('td',class_='enddate')\n",
    "        \n",
    "        #Initiate empty lists to store filling information\n",
    "        file_info=[]\n",
    "        filed=[]\n",
    "        orgname=[]\n",
    "        report_for=[]\n",
    "        \n",
    "        #Store filed date, report for (date), and name of the fund\n",
    "        for x in filling:\n",
    "            f = x.text\n",
    "            filed.append(f)\n",
    "        for i in orgname:\n",
    "            o = i.text\n",
    "            orgname.append(o)\n",
    "        for s in reporting:\n",
    "            r = s.text\n",
    "            report_for.append(r)\n",
    "        file_info = [[i , j ]\n",
    "           for i, j in zip(filed, report_for)]\n",
    "        for x in file_info:\n",
    "            x.append(n)\n",
    "\n",
    "        #Loop thru each 13F link\n",
    "        docs= browser.find_elements(By.XPATH,'//a[@href=\"#xslForm13F_X01/primary_doc.xml\"]')\n",
    "        \n",
    "        for x in docs:\n",
    "            time.sleep(random.randint(3,6))\n",
    "            x.click()\n",
    "            \n",
    "            #Current location: Search page\n",
    "            page_source = browser.page_source\n",
    "            soup0 = BeautifulSoup(page_source, 'lxml')\n",
    "            url0=soup0.find(\"a\",id=\"open-submission\").get(\"href\")\n",
    "            \n",
    "            #Current location: Filing Detail page\n",
    "            time.sleep(random.randint(2,6))\n",
    "            \n",
    "            #Use randomly selected proxy to send request and grab the urls leading to the individual fund's info table page\n",
    "            try:\n",
    "                proxies = {'http': proxy_list[random.randint(0,98)]}\n",
    "                r1 = requests.get(url0, headers=header,proxies=proxies,timeout=5)\n",
    "                soup1 = BeautifulSoup(r1.content, 'lxml')\n",
    "                url1=\"https://www.sec.gov/\"+soup1.find(\"table\",class_=\"tableFile\").findAll(\"tr\")[4].findAll(\"td\")[2].find(\"a\").get(\"href\")\n",
    "            except:\n",
    "                #Freeze in case the randomly chosen proxy had already been blacklisted by SEC and resulted in 10-min temporary block\n",
    "                print('2nd attempt,wait for 10 min')\n",
    "                time.sleep(620)\n",
    "                try:\n",
    "                    proxies = {'http': proxy_list[random.randint(0,98)]}\n",
    "                    r1 = requests.get(url0, headers=header,proxies=proxies,timeout=5)\n",
    "                    soup1 = BeautifulSoup(r1.content, 'lxml')\n",
    "                    url1=\"https://www.sec.gov/\"+soup1.find(\"table\",class_=\"tableFile\").findAll(\"tr\")[4].findAll(\"td\")[2].find(\"a\").get(\"href\")\n",
    "                except:\n",
    "                    time.sleep(2)\n",
    "                    print('3rd attempt')\n",
    "                    time.sleep(2)\n",
    "                    try:\n",
    "                        proxies = {'http': proxy_list[random.randint(0,98)]}\n",
    "                        r1 = requests.get(url0, headers=header,proxies=proxies,timeout=5)\n",
    "                        soup1 = BeautifulSoup(r1.content, 'lxml')\n",
    "                        url1=\"https://www.sec.gov/\"+soup1.find(\"table\",class_=\"tableFile\").findAll(\"tr\")[4].findAll(\"td\")[2].find(\"a\").get(\"href\")\n",
    "                    except:\n",
    "                        print('Proxy failure')\n",
    "           \n",
    "            #Current location: 13F info table page (XML)\n",
    "            \n",
    "            time.sleep(random.randint(2,6))\n",
    "            try:\n",
    "                proxies = {'http': proxy_list[random.randint(0,98)]}\n",
    "                r2 = requests.get(url1, headers=header,proxies=proxies,timeout=5)\n",
    "                soup2 = BeautifulSoup(r2.content, 'lxml')\n",
    "            except:\n",
    "                #Freeze in case the randomly chosen proxy had already been blacklisted by SEC and resulted in 10-min temporary block\n",
    "                print('2nd attempt,wait for 10 min')\n",
    "                time.sleep(620)\n",
    "                try:\n",
    "                    proxies = {'http': proxy_list[random.randint(0,98)]}\n",
    "                    r2 = requests.get(url1, headers=header,proxies=proxies,timeout=5)\n",
    "                    soup2 = BeautifulSoup(r2.content, 'lxml')\n",
    "                except:\n",
    "                    time.sleep(2)\n",
    "                    print('3rd attempt')\n",
    "                    try:\n",
    "                        proxies = {'http': proxy_list[random.randint(0,98)]}\n",
    "                        r2 = requests.get(url1, headers=header,proxies=proxies,timeout=5)\n",
    "                        soup2 = BeautifulSoup(r2.content, 'lxml')\n",
    "                    except:\n",
    "                        print('Proxy failure')\n",
    "            soup2 = BeautifulSoup(r2.content, 'lxml')\n",
    "            \n",
    "            #Scrape the XML page and parse out the wanted data\n",
    "            nameofissuers=[i.text for i in soup2.findAll(\"nameofissuer\")]\n",
    "            values=[i.text for i in soup2.findAll(\"value\")]\n",
    "            \n",
    "            #Remove commas in the values variables and turn str to int\n",
    "            values = [int(x.replace(\",\", \"\")) for x in values]\n",
    "            \n",
    "            #Save \"nameofissuer\" and \"value\" into a dataframe\n",
    "            dict2={\"Issuer\":nameofissuers,\"Value\":values}\n",
    "            df=pd.DataFrame(dict2)\n",
    "            df1=df.copy()\n",
    "            \n",
    "            #Aggregate values for each issuer, sort value, and save the top 3 holdings\n",
    "            final = df1.groupby(['Issuer'], as_index=False)['Value'].sum()\n",
    "            final = final.sort_values(by = 'Value', ascending=False )\n",
    "            final1 = final.head(3)\n",
    "            \n",
    "\n",
    "\n",
    "            #Append top 3 holdings in each file of each fund to the corresponding quarter portfolios \n",
    "            top3=final1['Issuer'].to_list()\n",
    "            \n",
    "            #Tracking the progress\n",
    "            print(file_info[row][0])\n",
    "            print(file_info[row][2])\n",
    "            print(top3)\n",
    "  \n",
    "            if file_info[row][0][:4]=='2016':\n",
    "                if file_info[row][0][6] == '2':\n",
    "                    Q1_2016.append(top3)\n",
    "                if file_info[row][0][6] == '5':\n",
    "                    Q2_2016.append(top3)\n",
    "                if file_info[row][0][6] == '8':\n",
    "                    Q3_2016.append(top3)\n",
    "                if file_info[row][0][6] == '1':\n",
    "                    Q4_2016.append(top3)\n",
    "\n",
    "            if file_info[row][0][:4]=='2018':\n",
    "                if file_info[row][0][6] == '2':\n",
    "                    Q1_2018.append(top3)\n",
    "                if file_info[row][0][6] == '5':\n",
    "                    Q2_2018.append(top3)\n",
    "                if file_info[row][0][6] == '8':\n",
    "                    Q3_2018.append(top3)\n",
    "                if file_info[row][0][6] == '1':\n",
    "                    Q4_2018.append(top3)\n",
    "\n",
    "            if file_info[row][0][:4]=='2020':\n",
    "                if file_info[row][0][6] == '2':\n",
    "                    Q1_2020.append(top3)\n",
    "                if file_info[row][0][6] == '5':\n",
    "                    Q2_2020.append(top3)\n",
    "                if file_info[row][0][6] == '8':\n",
    "                    Q3_2020.append(top3)\n",
    "                if file_info[row][0][6] == '1':\n",
    "                    Q4_2020.append(top3)\n",
    "\n",
    "            row+=1  # using this as a row counter, moving down one row for each fund's 13F              \n",
    "            \n",
    "            browser.find_element(By.XPATH,'//button[@class=\"close\"]').click()\n",
    "            \n",
    "    browser.quit()\n",
    "    return Q1_2016,Q2_2016, Q3_2016,Q4_2016, Q1_2018, Q2_2018, Q3_2018, Q4_2018,Q1_2020, Q2_2020, Q3_2020, Q4_2020"
   ]
  },
  {
   "cell_type": "markdown",
   "metadata": {},
   "source": [
    "#### Ticker Matcher"
   ]
  },
  {
   "cell_type": "code",
   "execution_count": null,
   "metadata": {},
   "outputs": [],
   "source": [
    "#Match the company names with their corresponding ticker symbols\n",
    "def ticker_matcher(Q1_2016,Q2_2016,Q3_2016,Q4_2016,Q1_2018,Q2_2018,Q3_2018,Q4_2018,Q1_2020,Q2_2020,Q3_2020,Q4_2020):   \n",
    "    \n",
    "    #Initialize empty lists for storing tickers and constructing portfolios\n",
    "    Q1_2016_port=[]\n",
    "    Q2_2016_port=[]\n",
    "    Q3_2016_port=[]\n",
    "    Q4_2016_port=[]\n",
    "    Q1_2018_port=[]\n",
    "    Q2_2018_port=[]\n",
    "    Q3_2018_port=[]\n",
    "    Q4_2018_port=[]\n",
    "    Q1_2020_port=[]\n",
    "    Q2_2020_port=[]\n",
    "    Q3_2020_port=[]\n",
    "    Q4_2020_port=[]\n",
    "\n",
    "    #Import ticker dictionary\n",
    "    t_dict=pd.read_csv('ticker dictionary clean.csv') \n",
    "    \n",
    "    #Run name match to retrieve tickers from the ticker dictionary\n",
    "    for f in Q1_2016:\n",
    "        for c in f:\n",
    "            c1=c.lower()\n",
    "            c2=c1.split()[0] \n",
    "\n",
    "            for d in range(0,len(t_dict['Name'])):\n",
    "                d1=t_dict['Name'][d]\n",
    "                d2=d1.split()[0] \n",
    "                \n",
    "                #Check if the first words matches\n",
    "                if c2==d2:\n",
    "                    #Check non-exact match score; if greater than 75, then match succeed\n",
    "                    if fuzz.partial_ratio(c1,d1) >=75:\n",
    "                        Q1_2016_port.append(t_dict['Symbol'][d])\n",
    "\n",
    "    for f in Q2_2016:\n",
    "        for c in f:\n",
    "            c1=c.lower()\n",
    "            c2=c1.split()[0] \n",
    "\n",
    "            for d in range(0,len(t_dict['Name'])):\n",
    "                d1=t_dict['Name'][d]\n",
    "                d2=d1.split()[0] \n",
    "\n",
    "                if c2==d2:\n",
    "                    if fuzz.partial_ratio(c1,d1) >=75:\n",
    "                        Q2_2016_port.append(t_dict['Symbol'][d])\n",
    "\n",
    "    for f in Q3_2016:\n",
    "        for c in f:\n",
    "            c1=c.lower()\n",
    "            c2=c1.split()[0] \n",
    "\n",
    "            for d in range(0,len(t_dict['Name'])):\n",
    "                d1=t_dict['Name'][d]\n",
    "                d2=d1.split()[0] \n",
    "\n",
    "                if c2==d2:\n",
    "                    if fuzz.partial_ratio(c1,d1) >=75:\n",
    "                        Q3_2016_port.append(t_dict['Symbol'][d])\n",
    "\n",
    "    for f in Q4_2016:\n",
    "        for c in f:\n",
    "            c1=c.lower()\n",
    "            c2=c1.split()[0] \n",
    "\n",
    "            for d in range(0,len(t_dict['Name'])):\n",
    "                d1=t_dict['Name'][d]\n",
    "                d2=d1.split()[0] \n",
    "\n",
    "                if c2==d2:\n",
    "                    if fuzz.partial_ratio(c1,d1) >=75:\n",
    "                        Q4_2016_port.append(t_dict['Symbol'][d])\n",
    "\n",
    "    for f in Q1_2018:\n",
    "        for c in f:\n",
    "            c1=c.lower()\n",
    "            c2=c1.split()[0] \n",
    "\n",
    "            for d in range(0,len(t_dict['Name'])):\n",
    "                d1=t_dict['Name'][d]\n",
    "                d2=d1.split()[0] \n",
    "\n",
    "                if c2==d2:\n",
    "                    if fuzz.partial_ratio(c1,d1) >=75:\n",
    "                        Q1_2018_port.append(t_dict['Symbol'][d])\n",
    "\n",
    "\n",
    "    for f in Q2_2018:\n",
    "        for c in f:\n",
    "            c1=c.lower()\n",
    "            c2=c1.split()[0] \n",
    "\n",
    "            for d in range(0,len(t_dict['Name'])):\n",
    "                d1=t_dict['Name'][d]\n",
    "                d2=d1.split()[0] \n",
    "\n",
    "                if c2==d2:\n",
    "                    if fuzz.partial_ratio(c1,d1) >=75:\n",
    "                        Q2_2018_port.append(t_dict['Symbol'][d])\n",
    "\n",
    "\n",
    "    for f in Q3_2018:\n",
    "        for c in f:\n",
    "            c1=c.lower()\n",
    "            c2=c1.split()[0] \n",
    "\n",
    "            for d in range(0,len(t_dict['Name'])):\n",
    "                d1=t_dict['Name'][d]\n",
    "                d2=d1.split()[0] \n",
    "\n",
    "                if c2==d2:\n",
    "                    if fuzz.partial_ratio(c1,d1) >=75:\n",
    "                        Q3_2018_port.append(t_dict['Symbol'][d])\n",
    "\n",
    "    for f in Q4_2018:\n",
    "        for c in f:\n",
    "            c1=c.lower()\n",
    "            c2=c1.split()[0] \n",
    "\n",
    "            for d in range(0,len(t_dict['Name'])):\n",
    "                d1=t_dict['Name'][d]\n",
    "                d2=d1.split()[0] \n",
    "\n",
    "                if c2==d2:\n",
    "                    if fuzz.partial_ratio(c1,d1) >=75:\n",
    "                        Q4_2018_port.append(t_dict['Symbol'][d])\n",
    "\n",
    "\n",
    "    for f in Q1_2020:\n",
    "        for c in f:\n",
    "            c1=c.lower()\n",
    "            c2=c1.split()[0] \n",
    "\n",
    "            for d in range(0,len(t_dict['Name'])):\n",
    "                d1=t_dict['Name'][d]\n",
    "                d2=d1.split()[0] \n",
    "\n",
    "                if c2==d2:\n",
    "                    if fuzz.partial_ratio(c1,d1) >=75:\n",
    "                        Q1_2020_port.append(t_dict['Symbol'][d])\n",
    "\n",
    "\n",
    "    for f in Q2_2020:\n",
    "        for c in f:\n",
    "            c1=c.lower()\n",
    "            c2=c1.split()[0] \n",
    "\n",
    "            for d in range(0,len(t_dict['Name'])):\n",
    "                d1=t_dict['Name'][d]\n",
    "                d2=d1.split()[0] \n",
    "\n",
    "                if c2==d2:\n",
    "                    if fuzz.partial_ratio(c1,d1) >=75:\n",
    "                        Q2_2020_port.append(t_dict['Symbol'][d])\n",
    "\n",
    "    for f in Q3_2020:\n",
    "        for c in f:\n",
    "            c1=c.lower()\n",
    "            c2=c1.split()[0]\n",
    "\n",
    "            for d in range(0,len(t_dict['Name'])):\n",
    "                d1=t_dict['Name'][d]\n",
    "                d2=d1.split()[0] \n",
    "\n",
    "                if c2==d2:\n",
    "                    if fuzz.partial_ratio(c1,d1) >=75:\n",
    "                        Q3_2020_port.append(t_dict['Symbol'][d])\n",
    "\n",
    "    for f in Q4_2020:\n",
    "        for c in f:\n",
    "            c1=c.lower()\n",
    "            c2=c1.split()[0] \n",
    "\n",
    "            for d in range(0,len(t_dict['Name'])):\n",
    "                d1=t_dict['Name'][d]\n",
    "                d2=d1.split()[0] \n",
    "\n",
    "                if c2==d2:\n",
    "                    if fuzz.partial_ratio(c1,d1) >=75:\n",
    "                        Q4_2020_port.append(t_dict['Symbol'][d])\n",
    "    \n",
    "    #Pass all tickers into a dictionary\n",
    "    portfolios={'2016-2-16':Q1_2016_port, '2016-5-16':Q2_2016_port, '2016-8-16':Q3_2016_port, '2016-11-16':Q4_2016_port, \n",
    "                   '2018-2-16':Q1_2018_port, '2018-5-16':Q2_2018_port, '2018-8-16':Q3_2018_port, '2018-11-16':Q4_2018_port, \n",
    "                   '2020-2-16':Q1_2020_port, '2020-5-16':Q2_2020_port, '2020-8-16':Q3_2020_port, '2020-11-16':Q4_2020_port}\n",
    "\n",
    "    return portfolios"
   ]
  },
  {
   "cell_type": "markdown",
   "metadata": {},
   "source": [
    "#### Wall Street Portfolio Backtest"
   ]
  },
  {
   "cell_type": "code",
   "execution_count": 7,
   "metadata": {},
   "outputs": [],
   "source": [
    "#Backtest the Wall St. portfolios' theoretical performance\n",
    "def sec_backtest(start_time,end_time,tickers):\n",
    "    #Retrieve historical data from yfinance API\n",
    "    data = yf.download(tickers,start_time,end_time)\n",
    "    data_price = data['Adj Close']\n",
    "    #If a ticker is invalid, drop its column\n",
    "    non_ticker=data_price.columns[data_price.iloc[0].isna()].tolist()\n",
    "    for item in non_ticker:\n",
    "        data_price=data_price.drop(item,axis=1)\n",
    "    #If the last date is a non-trading day, then drop the last row\n",
    "    if data_price.iloc[-1].isna().any()==True:\n",
    "        data_price=data_price[:-1]\n",
    "    #Calculate Net Asset Values for each position\n",
    "    data_NAV=data_price/data_price.iloc[0] \n",
    "    #Calculate the portfolio NAV\n",
    "    data_NAV['NAV']=(data_NAV.sum(axis=1))/(len(tickers)-len(non_ticker))\n",
    "    \n",
    "    #Create plot titles for later use\n",
    "    title='13F Backtest '+start_time+' to '+end_time\n",
    "    plot_title='13F vs WSB Portfolio '+start_time+' to '+end_time\n",
    "\n",
    "    return data_price,data_NAV,title,plot_title"
   ]
  },
  {
   "cell_type": "markdown",
   "metadata": {},
   "source": [
    "#### Run the 13F Scraper and Ticker Matcher functions"
   ]
  },
  {
   "cell_type": "code",
   "execution_count": null,
   "metadata": {},
   "outputs": [],
   "source": [
    "def sec_main():\n",
    "    #Prepare a list of fund names to scrape 13Fs from.\n",
    "    fund_names = ['RA CAPITAL MANAGEMENT', 'Pershing Square Capital Management, L.P.',\n",
    "                  'BERKSHIRE HATHAWAY INC', 'HHLR ADVISORS, LTD.',\n",
    "                 'CAS Investment Partners', 'JW Asset Management', 'Senvest Management']\n",
    "    #Scrape the 13Fs from SEC and outputs lists of top positions (company names)\n",
    "    Q1_2016,Q2_2016,Q3_2016,Q4_2016,Q1_2018,Q2_2018,Q3_2018,Q4_2018,Q1_2020,Q2_2020,Q3_2020,Q4_2020=sec13f_scraper(fund_names)\n",
    "    #Match ticker symbols and output a dictionary that consists of portfolios(tickers) for each quarter \n",
    "    portfolios=ticker_matcher(Q1_2016,Q2_2016,Q3_2016,Q4_2016,Q1_2018,Q2_2018,Q3_2018,Q4_2018,Q1_2020,Q2_2020,Q3_2020,Q4_2020)\n",
    "    \n",
    "    return portfolios"
   ]
  },
  {
   "cell_type": "markdown",
   "metadata": {},
   "source": [
    "#### Run the backtest and export results as csv files."
   ]
  },
  {
   "cell_type": "code",
   "execution_count": 9,
   "metadata": {},
   "outputs": [],
   "source": [
    "def back_export(portf):    \n",
    "    port_start_times=list(portf.keys())\n",
    "    port_end_times=['2021-2-16', '2021-5-16', '2021-8-16', '2021-11-16', '2021-2-16', '2021-5-16', '2021-8-16', '2021-11-16', \n",
    "                    '2021-2-16', '2021-5-16', '2021-8-16', '2021-11-16']\n",
    "    #Initialize empty lists for storing csv filenames that will be exported.\n",
    "    price13f_filenames=[]\n",
    "    nav13f_filenames=[]\n",
    "    titles_13f=[]\n",
    "    plot_titles=[]\n",
    "    #Run backtests and export results as csv files.\n",
    "    for ti in range(0,len(port_start_times)):\n",
    "        start=port_start_times[ti]\n",
    "        end=port_end_times[ti]\n",
    "        tickers=portfolios[start]\n",
    "        data_price,data_NAV,title,plot_title=sec_backtest(start,end,tickers)\n",
    "        titles_13f.append(title)\n",
    "        plot_titles.append(plot_title)\n",
    "        title_price=title+' (Price).csv'\n",
    "        title_nav=title+' (NAV).csv'\n",
    "        price13f_filenames.append(title_price)\n",
    "        nav13f_filenames.append(title_nav)\n",
    "        data_price.to_csv (title_price, index = True, header=True)\n",
    "        data_NAV.to_csv (title_nav, index = True, header=True)\n",
    "        \n",
    "    return price13f_filenames, nav13f_filenames, titles_13f, plot_titles"
   ]
  },
  {
   "cell_type": "markdown",
   "metadata": {},
   "source": [
    "#### Function results"
   ]
  },
  {
   "cell_type": "code",
   "execution_count": 10,
   "metadata": {
    "collapsed": true
   },
   "outputs": [
    {
     "name": "stdout",
     "output_type": "stream",
     "text": [
      "2019-11-14\n",
      "RA CAPITAL MANAGEMENT\n",
      "['ASCENDIS PHARMA A S', 'WAVE LIFE SCIENCES LTD', 'SYNTHORX INC']\n",
      "2016-05-16\n",
      "RA CAPITAL MANAGEMENT\n",
      "['WAVE LIFE SCIENCES LTD', 'ACHILLION PHARMACEUTICALS INC', 'AXOVANT SCIENCES LTD']\n",
      "2019-02-14\n",
      "RA CAPITAL MANAGEMENT\n",
      "['WAVE LIFE SCIENCES LTD', 'ASCENDIS PHARMA A S', 'SYNTHORX INC']\n",
      "2016-08-15\n",
      "RA CAPITAL MANAGEMENT\n",
      "['WAVE LIFE SCIENCES LTD', 'ACHILLION PHARMACEUTICALS INC', 'AXOVANT SCIENCES LTD']\n",
      "2019-05-15\n",
      "RA CAPITAL MANAGEMENT\n",
      "['ASCENDIS PHARMA A S', 'WAVE LIFE SCIENCES LTD', 'SYNTHORX INC']\n",
      "2018-02-14\n",
      "RA CAPITAL MANAGEMENT\n",
      "['WAVE LIFE SCIENCES LTD', 'ASCENDIS PHARMA A S', 'AVEXIS INC']\n",
      "2017-08-14\n",
      "RA CAPITAL MANAGEMENT\n",
      "['ASCENDIS PHARMA A S', 'WAVE LIFE SCIENCES LTD', 'AVEXIS INC']\n",
      "2017-11-14\n",
      "RA CAPITAL MANAGEMENT\n",
      "['ASCENDIS PHARMA A S', 'WAVE LIFE SCIENCES LTD', 'AVEXIS INC']\n",
      "2020-08-14\n",
      "RA CAPITAL MANAGEMENT\n",
      "['ASCENDIS PHARMA A S', 'FORMA THERAPEUTICS HLDGS INC', 'NOVAVAX INC']\n",
      "2018-11-14\n",
      "RA CAPITAL MANAGEMENT\n",
      "['WAVE LIFE SCIENCES LTD', 'ASCENDIS PHARMA A S', 'SOLID BIOSCIENCES INC']\n",
      "2016-02-16\n",
      "RA CAPITAL MANAGEMENT\n",
      "['ACHILLION PHARMACEUTICALS INC', 'WAVE LIFE SCIENCES LTD', 'DYAX CORP']\n",
      "2020-11-16\n",
      "RA CAPITAL MANAGEMENT\n",
      "['ASCENDIS PHARMA A S', 'FORMA THERAPEUTICS HLDGS INC', 'CHEMOCENTRYX INC']\n",
      "2018-08-14\n",
      "RA CAPITAL MANAGEMENT\n",
      "['WAVE LIFE SCIENCES LTD', 'ASCENDIS PHARMA A S', 'SOLID BIOSCIENCES INC']\n",
      "2021-05-17\n",
      "RA CAPITAL MANAGEMENT\n",
      "['ASCENDIS PHARMA A/S', 'NOVAVAX INC', 'VOR BIOPHARMA INC']\n",
      "2021-02-16\n",
      "RA CAPITAL MANAGEMENT\n",
      "['ASCENDIS PHARMA A S', 'TG THERAPEUTICS INC', 'NOVAVAX INC']\n",
      "2021-11-15\n",
      "RA CAPITAL MANAGEMENT\n",
      "['ASCENDIS PHARMA A/S', 'NOVAVAX INC', 'ELIEM THERAPEUTICS INC']\n",
      "2019-08-14\n",
      "RA CAPITAL MANAGEMENT\n",
      "['ASCENDIS PHARMA A S', 'WAVE LIFE SCIENCES LTD', 'ZOGENIX INC']\n",
      "2017-02-16\n",
      "RA CAPITAL MANAGEMENT\n",
      "['WAVE LIFE SCIENCES LTD', 'ASCENDIS PHARMA A S', 'AVEXIS INC']\n",
      "2018-05-15\n",
      "RA CAPITAL MANAGEMENT\n",
      "['WAVE LIFE SCIENCES LTD', 'ASCENDIS PHARMA A S', 'AVEXIS INC']\n",
      "2020-05-15\n",
      "RA CAPITAL MANAGEMENT\n",
      "['ASCENDIS PHARMA A S', 'RA PHARMACEUTICALS INC', 'CHEMOCENTRYX INC']\n",
      "2017-02-14\n",
      "RA CAPITAL MANAGEMENT\n",
      "['WAVE LIFE SCIENCES LTD', 'ASCENDIS PHARMA A S', 'AVEXIS INC']\n",
      "2016-11-14\n",
      "RA CAPITAL MANAGEMENT\n",
      "['WAVE LIFE SCIENCES PTE LTD', 'ACHILLION PHARMACEUTICALS INC', 'ASCENDIS PHARMA A S']\n",
      "2017-05-15\n",
      "RA CAPITAL MANAGEMENT\n",
      "['WAVE LIFE SCIENCES LTD', 'ASCENDIS PHARMA A S', 'AVEXIS INC']\n",
      "2017-02-16\n",
      "RA CAPITAL MANAGEMENT\n",
      "['MYOVANT SCIENCES LTD']\n",
      "2020-02-14\n",
      "RA CAPITAL MANAGEMENT\n",
      "['SYNTHORX INC', 'ASCENDIS PHARMA A S', 'RA PHARMACEUTICALS INC']\n",
      "2021-08-16\n",
      "RA CAPITAL MANAGEMENT\n",
      "['ASCENDIS PHARMA A/S', 'NOVAVAX INC', 'FORMA THERAPEUTICS HLDGS INC']\n",
      "2017-08-14\n",
      "Pershing Square Capital Management, L.P.\n",
      "['RESTAURANT BRANDS INTL INC', 'CHIPOTLE MEXICAN GRILL INC', 'MONDELEZ INTL INC']\n",
      "2020-05-15\n",
      "Pershing Square Capital Management, L.P.\n",
      "['LOWES COS INC', 'BERKSHIRE HATHAWAY INC DEL', 'HILTON WORLDWIDE HLDGS INC']\n",
      "2018-02-14\n",
      "Pershing Square Capital Management, L.P.\n",
      "['RESTAURANT BRANDS INTL INC', 'AUTOMATIC DATA PROCESSING IN', 'MONDELEZ INTL INC']\n",
      "2016-02-16\n",
      "Pershing Square Capital Management, L.P.\n",
      "['AIR PRODS & CHEMS INC', 'ZOETIS INC', 'MONDELEZ INTL INC']\n",
      "2016-08-15\n",
      "Pershing Square Capital Management, L.P.\n",
      "['RESTAURANT BRANDS INTL INC', 'CANADIAN PAC RY LTD', 'AIR PRODS & CHEMS INC']\n",
      "2018-05-15\n",
      "Pershing Square Capital Management, L.P.\n",
      "['RESTAURANT BRANDS INTL INC', 'CHIPOTLE MEXICAN GRILL INC', 'AUTOMATIC DATA PROCESSING IN']\n",
      "2017-11-14\n",
      "Pershing Square Capital Management, L.P.\n",
      "['RESTAURANT BRANDS INTL INC', 'AUTOMATIC DATA PROCESSING IN', 'CHIPOTLE MEXICAN GRILL INC']\n",
      "2019-12-09\n",
      "Pershing Square Capital Management, L.P.\n",
      "['AGILENT TECHNOLOGIES INC']\n",
      "2021-05-17\n",
      "Pershing Square Capital Management, L.P.\n",
      "['LOWES COS INC', 'HILTON WORLDWIDE HLDGS INC', 'RESTAURANT BRANDS INTL INC']\n",
      "2020-08-14\n",
      "Pershing Square Capital Management, L.P.\n",
      "['LOWES COS INC', 'RESTAURANT BRANDS INTL INC', 'CHIPOTLE MEXICAN GRILL INC']\n",
      "2021-11-15\n",
      "Pershing Square Capital Management, L.P.\n",
      "['LOWES COS INC', 'CHIPOTLE MEXICAN GRILL INC', 'HILTON WORLDWIDE HLDGS INC']\n",
      "2019-08-14\n",
      "Pershing Square Capital Management, L.P.\n",
      "['CHIPOTLE MEXICAN GRILL INC', 'RESTAURANT BRANDS INTL INC', 'HILTON WORLDWIDE HLDGS INC']\n",
      "2018-11-14\n",
      "Pershing Square Capital Management, L.P.\n",
      "['RESTAURANT BRANDS INTL INC', 'LOWES COS INC', 'CHIPOTLE MEXICAN GRILL INC']\n",
      "2019-05-15\n",
      "Pershing Square Capital Management, L.P.\n",
      "['CHIPOTLE MEXICAN GRILL INC', 'RESTAURANT BRANDS INTL INC', 'LOWES COS INC']\n",
      "2021-08-16\n",
      "Pershing Square Capital Management, L.P.\n",
      "['LOWES COS INC', 'AGILENT TECHNOLOGIES INC', 'CHIPOTLE MEXICAN GRILL INC']\n",
      "2016-11-14\n",
      "Pershing Square Capital Management, L.P.\n",
      "['RESTAURANT BRANDS INTL INC', 'MONDELEZ INTL INC', 'AIR PRODS & CHEMS INC']\n",
      "2020-02-14\n",
      "Pershing Square Capital Management, L.P.\n",
      "['CHIPOTLE MEXICAN GRILL INC', 'HILTON WORLDWIDE HLDGS INC', 'LOWES COS INC']\n",
      "2017-05-15\n",
      "Pershing Square Capital Management, L.P.\n",
      "['RESTAURANT BRANDS INTL INC', 'CHIPOTLE MEXICAN GRILL INC', 'MONDELEZ INTL INC']\n",
      "2019-02-14\n",
      "Pershing Square Capital Management, L.P.\n",
      "['RESTAURANT BRANDS INTL INC', 'LOWES COS INC', 'CHIPOTLE MEXICAN GRILL INC']\n",
      "2017-02-14\n",
      "Pershing Square Capital Management, L.P.\n",
      "['RESTAURANT BRANDS INTL INC', 'CHIPOTLE MEXICAN GRILL INC', 'MONDELEZ INTL INC']\n",
      "2019-11-14\n",
      "Pershing Square Capital Management, L.P.\n",
      "['CHIPOTLE MEXICAN GRILL INC', 'RESTAURANT BRANDS INTL INC', 'HILTON WORLDWIDE HLDGS INC']\n",
      "2018-08-14\n",
      "Pershing Square Capital Management, L.P.\n",
      "['RESTAURANT BRANDS INTL INC', 'CHIPOTLE MEXICAN GRILL INC', 'LOWES COS INC']\n",
      "2016-05-16\n",
      "Pershing Square Capital Management, L.P.\n",
      "['ZOETIS INC', 'CANADIAN PAC RY LTD', 'RESTAURANT BRANDS INTL INC']\n",
      "2020-10-23\n",
      "Pershing Square Capital Management, L.P.\n",
      "['LOWES COS INC', 'RESTAURANT BRANDS INTL INC', 'CHIPOTLE MEXICAN GRILL INC']\n",
      "2021-02-16\n",
      "Pershing Square Capital Management, L.P.\n",
      "['LOWES COS INC', 'CHIPOTLE MEXICAN GRILL INC', 'RESTAURANT BRANDS INTL INC']\n",
      "2021-02-16\n",
      "BERKSHIRE HATHAWAY INC\n",
      "['VERIZON COMMUNICATIONS INC', 'CHEVRON CORP NEW', 'MARSH & MCLENNAN COS INC']\n",
      "2017-11-14\n",
      "BERKSHIRE HATHAWAY INC\n",
      "['WELLS FARGO & CO NEW', 'KRAFT HEINZ CO', 'APPLE INC']\n",
      "2020-02-14\n",
      "BERKSHIRE HATHAWAY INC\n",
      "['APPLE INC', 'BANK AMER CORP', 'COCA COLA CO']\n",
      "2021-05-17\n",
      "BERKSHIRE HATHAWAY INC\n",
      "['APPLE INC', 'BANK AMER CORP', 'AMERICAN EXPRESS CO']\n",
      "2021-08-16\n",
      "BERKSHIRE HATHAWAY INC\n",
      "['APPLE INC', 'BANK AMER CORP', 'AMERICAN EXPRESS CO']\n",
      "2018-05-15\n",
      "BERKSHIRE HATHAWAY INC\n",
      "['APPLE INC', 'WELLS FARGO & CO NEW', 'BANK AMER CORP']\n",
      "2016-11-14\n",
      "BERKSHIRE HATHAWAY INC\n",
      "['KRAFT HEINZ CO', 'WELLS FARGO & CO NEW', 'COCA COLA CO']\n",
      "2019-02-14\n",
      "BERKSHIRE HATHAWAY INC\n",
      "['APPLE INC', 'BANK AMER CORP', 'WELLS FARGO & CO NEW']\n",
      "2020-05-15\n",
      "BERKSHIRE HATHAWAY INC\n",
      "['APPLE INC', 'BANK AMER CORP', 'COCA COLA CO']\n",
      "2021-11-15\n",
      "BERKSHIRE HATHAWAY INC\n",
      "['APPLE INC', 'BANK AMER CORP', 'AMERICAN EXPRESS CO']\n",
      "2018-11-14\n",
      "BERKSHIRE HATHAWAY INC\n",
      "['APPLE INC', 'BANK AMER CORP', 'WELLS FARGO & CO NEW']\n",
      "2017-08-14\n",
      "BERKSHIRE HATHAWAY INC\n",
      "['KRAFT HEINZ CO', 'WELLS FARGO & CO NEW', 'APPLE INC']\n",
      "2020-11-16\n",
      "BERKSHIRE HATHAWAY INC\n",
      "['APPLE INC', 'BANK AMER CORP', 'COCA COLA CO']\n",
      "2020-08-14\n",
      "BERKSHIRE HATHAWAY INC\n",
      "['APPLE INC', 'BANK AMER CORP', 'COCA COLA CO']\n",
      "2021-02-16\n",
      "BERKSHIRE HATHAWAY INC\n",
      "['APPLE INC', 'BANK AMER CORP', 'COCA COLA CO']\n",
      "2019-05-15\n",
      "BERKSHIRE HATHAWAY INC\n",
      "['APPLE INC', 'BANK AMER CORP', 'WELLS FARGO & CO NEW']\n",
      "2018-08-14\n",
      "BERKSHIRE HATHAWAY INC\n",
      "['APPLE INC', 'WELLS FARGO & CO NEW', 'KRAFT HEINZ CO']\n",
      "2019-11-14\n",
      "BERKSHIRE HATHAWAY INC\n",
      "['APPLE INC', 'BANK AMER CORP', 'COCA COLA CO']\n",
      "2018-02-14\n",
      "BERKSHIRE HATHAWAY INC\n",
      "['APPLE INC', 'WELLS FARGO & CO NEW', 'KRAFT HEINZ CO']\n",
      "2017-05-15\n",
      "BERKSHIRE HATHAWAY INC\n",
      "['KRAFT HEINZ CO', 'WELLS FARGO & CO NEW', 'APPLE INC']\n",
      "2016-05-16\n",
      "BERKSHIRE HATHAWAY INC\n",
      "['KRAFT HEINZ CO', 'WELLS FARGO & CO NEW', 'COCA COLA CO']\n",
      "2016-08-15\n",
      "BERKSHIRE HATHAWAY INC\n",
      "['KRAFT HEINZ CO', 'WELLS FARGO & CO NEW', 'COCA COLA CO']\n",
      "2017-02-14\n",
      "BERKSHIRE HATHAWAY INC\n",
      "['KRAFT HEINZ CO', 'WELLS FARGO & CO NEW', 'COCA COLA CO']\n",
      "2016-02-16\n",
      "BERKSHIRE HATHAWAY INC\n",
      "['WELLS FARGO & CO NEW', 'KRAFT HEINZ CO', 'COCA COLA CO']\n",
      "2019-08-14\n",
      "BERKSHIRE HATHAWAY INC\n",
      "['APPLE INC', 'BANK AMER CORP', 'COCA COLA CO']\n",
      "2021-08-16\n",
      "HHLR ADVISORS, LTD.\n",
      "['BEIGENE LTD', 'PINDUODUO INC', 'IQIYI INC']\n",
      "2021-11-15\n",
      "HHLR ADVISORS, LTD.\n",
      "['BEIGENE LTD', 'LEGEND BIOTECH CORP', 'I MAB']\n"
     ]
    },
    {
     "name": "stdout",
     "output_type": "stream",
     "text": [
      "2018-02-14\n",
      "CAS Investment Partners\n",
      "['WORLD ACCEP CORP DEL', 'HERBALIFE LTD', 'CIMPRESS N V']\n",
      "2020-05-15\n",
      "CAS Investment Partners\n",
      "['CARVANA CO', 'CARDLYTICS INC', 'HERBALIFE NUTRITION LTD']\n",
      "2020-08-14\n",
      "CAS Investment Partners\n",
      "['CARVANA CO', 'CARDLYTICS INC', 'AT HOME GROUP INC']\n",
      "2020-11-16\n",
      "CAS Investment Partners\n",
      "['CARVANA CO', 'CARDLYTICS INC', 'AT HOME GROUP INC']\n",
      "2020-02-14\n",
      "CAS Investment Partners\n",
      "['CARVANA CO', 'CARDLYTICS INC', 'HERBALIFE NUTRITION LTD']\n",
      "2021-05-17\n",
      "CAS Investment Partners\n",
      "['CARVANA CO', 'CARDLYTICS INC', 'AT HOME GROUP INC']\n",
      "2018-05-15\n",
      "CAS Investment Partners\n",
      "['WORLD ACCEP CORP DEL', 'HERBALIFE LTD', 'CARVANA CO']\n",
      "2018-08-14\n",
      "CAS Investment Partners\n",
      "['CARVANA CO', 'WORLD ACCEP CORP DEL', 'HERBALIFE NUTRITION LTD']\n",
      "2021-02-16\n",
      "CAS Investment Partners\n",
      "['CARVANA CO', 'CARDLYTICS INC', 'AT HOME GROUP INC']\n",
      "2021-11-15\n",
      "CAS Investment Partners\n",
      "['CARVANA CO', 'CARDLYTICS INC', 'HILTON GRAND VACATIONS INC']\n",
      "2021-08-13\n",
      "CAS Investment Partners\n",
      "['CARVANA CO', 'CARDLYTICS INC', 'AT HOME GROUP INC']\n",
      "2018-11-14\n",
      "CAS Investment Partners\n",
      "['CARVANA CO', 'WORLD ACCEP CORP DEL', 'HERBALIFE NUTRITION LTD']\n",
      "2019-02-14\n",
      "CAS Investment Partners\n",
      "['CARVANA CO', 'HERBALIFE NUTRITION LTD', 'WORLD ACCEP CORP DEL']\n",
      "2019-08-14\n",
      "CAS Investment Partners\n",
      "['CARVANA CO', 'WORLD ACCEP CORP DEL', 'CARDLYTICS INC']\n",
      "2019-05-15\n",
      "CAS Investment Partners\n",
      "['CARVANA CO', 'WORLD ACCEP CORP DEL', 'HERBALIFE NUTRITION LTD']\n",
      "2019-11-14\n",
      "CAS Investment Partners\n",
      "['CARVANA CO', 'AT HOME GROUP INC', 'CARDLYTICS INC']\n",
      "2019-05-14\n",
      "JW Asset Management\n",
      "['CANOPY GROWTH CORP', 'AMAZON COM INC', 'EAGLE PHARMACEUTICALS INC']\n",
      "2021-02-05\n",
      "JW Asset Management\n",
      "['ESTABLISHMENT LABS HLDGS INC', 'AMAZON COM INC', 'GROWGENERATION CORP']\n",
      "2016-05-12\n",
      "JW Asset Management\n",
      "['EAGLE PHARMACEUTICALS INC', 'FACEBOOK INC CLASS A COMMON STOCK', 'STARBUCKS CORP']\n",
      "2021-05-14\n",
      "JW Asset Management\n",
      "['ESTABLISHMENT LABS HLDGS INC', 'AMAZON COM INC', 'GROWGENERATION CORP']\n",
      "2016-11-14\n",
      "JW Asset Management\n",
      "['EAGLE PHARMACEUTICALS INC', 'AMAZON COM INC', 'ARALEZ PHARMACEUTICALS INC']\n",
      "2020-02-11\n",
      "JW Asset Management\n",
      "['ESTABLISHMENT LABS HLDGS INC', 'AMAZON COM INC', 'MICROSOFT CORP']\n",
      "2017-08-04\n",
      "JW Asset Management\n",
      "['EAGLE PHARMACEUTICALS INC', 'TESLA INC', 'AMAZON COM INC']\n",
      "2020-11-06\n",
      "JW Asset Management\n",
      "['AMAZON COM INC', 'ESTABLISHMENT LABS HLDGS INC', 'BEYOND MEAT INC']\n",
      "2018-05-11\n",
      "JW Asset Management\n",
      "['AMAZON COM INC', 'EAGLE PHARMACEUTICALS INC', 'CRONOS GROUP INC']\n",
      "2019-08-09\n",
      "JW Asset Management\n",
      "['ESTABLISHMENT LABS HLDGS INC', 'CANOPY GROWTH CORP', 'AMAZON COM INC']\n",
      "2018-02-12\n",
      "JW Asset Management\n",
      "['EAGLE PHARMACEUTICALS INC', 'AMAZON COM INC', 'FACEBOOK INC']\n",
      "2017-05-12\n",
      "JW Asset Management\n",
      "['APPLE INC', 'EAGLE PHARMACEUTICALS INC', 'BIOSPECIFICS TECHNOLOGIES CO']\n",
      "2017-02-14\n",
      "JW Asset Management\n",
      "['EAGLE PHARMACEUTICALS INC', 'GOLDMAN SACHS GROUP INC', 'AMAZON COM INC']\n",
      "2020-08-07\n",
      "JW Asset Management\n",
      "['AMAZON COM INC', 'ESTABLISHMENT LABS HLDGS INC', 'BEYOND MEAT INC']\n",
      "2020-05-08\n",
      "JW Asset Management\n",
      "['ESTABLISHMENT LABS HLDGS INC', 'AMAZON COM INC', 'MICROSOFT CORP']\n",
      "2018-08-10\n",
      "JW Asset Management\n",
      "['CANOPY GROWTH CORP', 'EAGLE PHARMACEUTICALS INC', 'AMAZON COM INC']\n",
      "2021-08-06\n",
      "JW Asset Management\n",
      "['ESTABLISHMENT LABS HLDGS INC', 'AMAZON COM INC', 'GROWGENERATION CORP']\n",
      "2016-08-12\n",
      "JW Asset Management\n",
      "['EAGLE PHARMACEUTICALS INC', 'AMAZON COM INC  COM', 'FACEBOOK INC CLASS A COMMON STOCK']\n",
      "2019-02-08\n",
      "JW Asset Management\n",
      "['CANOPY GROWTH CORP', 'AMAZON COM INC', 'EAGLE PHARMACEUTICALS INC']\n",
      "2017-11-13\n",
      "JW Asset Management\n",
      "['EAGLE PHARMACEUTICALS INC', 'TESLA INC', 'AMAZON COM INC']\n",
      "2018-11-09\n",
      "JW Asset Management\n",
      "['CANOPY GROWTH CORP', 'AMAZON COM INC', 'EAGLE PHARMACEUTICALS INC']\n",
      "2016-02-09\n",
      "JW Asset Management\n",
      "['EAGLE PHARMACEUTICALS INC', 'CONCORDIA HEALTHCARE CORP SHS', 'NETFLIX COM INC']\n",
      "2019-11-13\n",
      "JW Asset Management\n",
      "['ESTABLISHMENT LABS HLDGS INC', 'AMAZON COM INC', 'HORIZON THERAPEUTICS PUB LTD']\n",
      "2021-11-05\n",
      "JW Asset Management\n",
      "['ESTABLISHMENT LABS HLDGS INC', 'AMAZON COM INC', 'GROWGENERATION CORP']\n",
      "2021-08-13\n",
      "Senvest Management\n",
      "['EBAY INC.', 'TOWER SEMICONDUCTOR LTD', 'CAPRI HOLDINGS LIMITED']\n",
      "2019-11-13\n",
      "Senvest Management\n",
      "['MARRIOTT VACTINS WORLDWID CO', 'TOWER SEMICONDUCTOR LTD', 'RADWARE LTD']\n",
      "2017-11-13\n",
      "Senvest Management\n",
      "['TOWER SEMICONDUCTOR LTD', 'RADWARE LTD', 'AXCELIS TECHNOLOGIES INC']\n",
      "2020-08-13\n",
      "Senvest Management\n",
      "['EBAY INC.', 'TOWER SEMICONDUCTOR LTD', 'MARRIOTT VACTINS WORLDWID CO']\n",
      "2020-02-13\n",
      "Senvest Management\n",
      "['MARRIOTT VACTINS WORLDWID CO', 'TOWER SEMICONDUCTOR LTD', 'INTERCEPT PHARMACEUTICALS IN']\n",
      "2021-02-12\n",
      "Senvest Management\n",
      "['EBAY INC.', 'TOWER SEMICONDUCTOR LTD', 'CAPRI HOLDINGS LIMITED']\n",
      "2016-05-13\n",
      "Senvest Management\n",
      "['DECKERS OUTDOOR CORP', 'NORTHSTAR RLTY FIN CORP', 'TOWER SEMICONDUCTOR LTD']\n",
      "2019-02-14\n",
      "Senvest Management\n",
      "['MARRIOTT VACATIONS WRLDWDE C', 'RADWARE LTD', 'MELLANOX TECHNOLOGIES LTD']\n",
      "2020-05-14\n",
      "Senvest Management\n",
      "['TOWER SEMICONDUCTOR LTD', 'MARRIOTT VACTINS WORLDWID CO', 'RADWARE LTD']\n",
      "2017-02-13\n",
      "Senvest Management\n",
      "['TOWER SEMICONDUCTOR LTD', 'DECKERS OUTDOOR CORP', 'DEPOMED INC']\n",
      "2019-08-13\n",
      "Senvest Management\n",
      "['MARRIOTT VACTINS WORLDWID CO', 'RADWARE LTD', 'TOWER SEMICONDUCTOR LTD']\n",
      "2020-11-13\n",
      "Senvest Management\n",
      "['EBAY INC.', 'TOWER SEMICONDUCTOR LTD', 'MARRIOTT VACTINS WORLDWID CO']\n",
      "2017-08-11\n",
      "Senvest Management\n",
      "['TOWER SEMICONDUCTOR LTD', 'RADWARE LTD', 'TRUECAR INC']\n",
      "2021-11-12\n",
      "Senvest Management\n",
      "['TOWER SEMICONDUCTOR LTD', 'CAPRI HOLDINGS LIMITED', 'MARRIOTT VACATIONS WORLDWIDE']\n",
      "2018-02-12\n",
      "Senvest Management\n",
      "['TOWER SEMICONDUCTOR LTD', 'RADWARE LTD', 'QUOTIENT TECHNOLOGY INC']\n",
      "2018-11-13\n",
      "Senvest Management\n",
      "['TOWER SEMICONDUCTOR LTD', 'MELLANOX TECHNOLOGIES LTD', 'RADWARE LTD']\n",
      "2018-08-13\n",
      "Senvest Management\n",
      "['RADWARE LTD', 'MELLANOX TECHNOLOGIES LTD', 'TOWER SEMICONDUCTOR LTD']\n",
      "2016-08-12\n",
      "Senvest Management\n",
      "['DECKERS OUTDOOR CORP', 'TOWER SEMICONDUCTOR LTD', 'DEPOMED INC']\n",
      "2016-11-10\n",
      "Senvest Management\n",
      "['TOWER SEMICONDUCTOR LTD', 'DEPOMED INC', 'DECKERS OUTDOOR CORP']\n",
      "2021-05-14\n",
      "Senvest Management\n",
      "['EBAY INC.', 'TOWER SEMICONDUCTOR LTD', 'CAPRI HOLDINGS LIMITED']\n",
      "2018-05-14\n",
      "Senvest Management\n",
      "['RADWARE LTD', 'MELLANOX TECHNOLOGIES LTD', 'TOWER SEMICONDUCTOR LTD']\n",
      "2019-05-14\n",
      "Senvest Management\n",
      "['MARRIOTT VACTINS WORLDWID CO', 'TOWER SEMICONDUCTOR LTD', 'RADWARE LTD']\n",
      "2016-02-12\n",
      "Senvest Management\n",
      "['TOWER SEMICONDUCTOR LTD', 'DEPOMED INC', 'RADWARE LTD']\n",
      "2017-05-12\n",
      "Senvest Management\n",
      "['TOWER SEMICONDUCTOR LTD', 'RADWARE LTD', 'DECKERS OUTDOOR CORP']\n"
     ]
    }
   ],
   "source": [
    "portfolios=sec_main()"
   ]
  },
  {
   "cell_type": "code",
   "execution_count": 12,
   "metadata": {
    "collapsed": true
   },
   "outputs": [
    {
     "data": {
      "text/plain": [
       "{'2016-2-16': ['WVE', 'ZTS', 'MDLZ', 'EAD', 'WFC', 'EGRX', 'TSEM', 'RDWR'],\n",
       " '2016-5-16': ['WVE',\n",
       "  'ZTS',\n",
       "  'QSR',\n",
       "  'EAD',\n",
       "  'WFC',\n",
       "  'EGRX',\n",
       "  'SBUX',\n",
       "  'DECK',\n",
       "  'TSEM'],\n",
       " '2016-8-16': ['WVE', 'QSR', 'EAD', 'WFC', 'EGRX', 'DECK', 'TSEM'],\n",
       " '2016-11-16': ['WVE',\n",
       "  'ASND',\n",
       "  'QSR',\n",
       "  'MDLZ',\n",
       "  'EAD',\n",
       "  'WFC',\n",
       "  'EGRX',\n",
       "  'TSEM',\n",
       "  'DECK'],\n",
       " '2018-2-16': ['WVE',\n",
       "  'ASND',\n",
       "  'QSR',\n",
       "  'ADP',\n",
       "  'MDLZ',\n",
       "  'AAPL',\n",
       "  'EAD',\n",
       "  'WFC',\n",
       "  'WRLD',\n",
       "  'HLF',\n",
       "  'CMPR',\n",
       "  'EGRX',\n",
       "  'TSEM',\n",
       "  'RDWR',\n",
       "  'QUOT'],\n",
       " '2018-5-16': ['WVE',\n",
       "  'ASND',\n",
       "  'QSR',\n",
       "  'CMG',\n",
       "  'ADP',\n",
       "  'AAPL',\n",
       "  'EAD',\n",
       "  'WFC',\n",
       "  'WRLD',\n",
       "  'HLF',\n",
       "  'CVNA',\n",
       "  'EGRX',\n",
       "  'CRON',\n",
       "  'RDWR',\n",
       "  'TSEM'],\n",
       " '2018-8-16': ['WVE',\n",
       "  'ASND',\n",
       "  'SLDB',\n",
       "  'QSR',\n",
       "  'CMG',\n",
       "  'AAPL',\n",
       "  'EAD',\n",
       "  'WFC',\n",
       "  'CVNA',\n",
       "  'WRLD',\n",
       "  'HLF',\n",
       "  'CGC',\n",
       "  'EGRX',\n",
       "  'RDWR',\n",
       "  'TSEM'],\n",
       " '2018-11-16': ['WVE',\n",
       "  'ASND',\n",
       "  'SLDB',\n",
       "  'QSR',\n",
       "  'CMG',\n",
       "  'AAPL',\n",
       "  'EAD',\n",
       "  'WFC',\n",
       "  'CVNA',\n",
       "  'WRLD',\n",
       "  'HLF',\n",
       "  'CGC',\n",
       "  'EGRX',\n",
       "  'TSEM',\n",
       "  'RDWR'],\n",
       " '2020-2-16': ['ASND',\n",
       "  'CMG',\n",
       "  'HLT',\n",
       "  'AAPL',\n",
       "  'CVNA',\n",
       "  'CDLX',\n",
       "  'HLF',\n",
       "  'ESTA',\n",
       "  'MSFT',\n",
       "  'VAC',\n",
       "  'TSEM',\n",
       "  'ICPT'],\n",
       " '2020-5-16': ['ASND',\n",
       "  'CCXI',\n",
       "  'BRK/A',\n",
       "  'BRK/B',\n",
       "  'HLT',\n",
       "  'AAPL',\n",
       "  'CVNA',\n",
       "  'CDLX',\n",
       "  'HLF',\n",
       "  'ESTA',\n",
       "  'MSFT',\n",
       "  'TSEM',\n",
       "  'VAC',\n",
       "  'RDWR'],\n",
       " '2020-8-16': ['ASND',\n",
       "  'FMTX',\n",
       "  'NVAX',\n",
       "  'QSR',\n",
       "  'CMG',\n",
       "  'AAPL',\n",
       "  'CVNA',\n",
       "  'CDLX',\n",
       "  'ESTA',\n",
       "  'BYND',\n",
       "  'XAIR',\n",
       "  'EBAY',\n",
       "  'TSEM',\n",
       "  'VAC'],\n",
       " '2020-11-16': ['ASND',\n",
       "  'FMTX',\n",
       "  'CCXI',\n",
       "  'AAPL',\n",
       "  'CVNA',\n",
       "  'CDLX',\n",
       "  'ESTA',\n",
       "  'BYND',\n",
       "  'XAIR',\n",
       "  'EBAY',\n",
       "  'TSEM',\n",
       "  'VAC']}"
      ]
     },
     "execution_count": 12,
     "metadata": {},
     "output_type": "execute_result"
    }
   ],
   "source": [
    "portfolios"
   ]
  },
  {
   "cell_type": "code",
   "execution_count": 55,
   "metadata": {
    "collapsed": true
   },
   "outputs": [
    {
     "name": "stdout",
     "output_type": "stream",
     "text": [
      "[*********************100%***********************]  8 of 8 completed\n",
      "[*********************100%***********************]  9 of 9 completed\n",
      "[*********************100%***********************]  7 of 7 completed\n",
      "[*********************100%***********************]  9 of 9 completed\n",
      "[*********************100%***********************]  15 of 15 completed\n",
      "[*********************100%***********************]  15 of 15 completed\n",
      "[*********************100%***********************]  15 of 15 completed\n",
      "[*********************100%***********************]  15 of 15 completed\n",
      "[*********************100%***********************]  12 of 12 completed\n",
      "[*********************100%***********************]  14 of 14 completed\n",
      "[*********************100%***********************]  14 of 14 completed\n",
      "[*********************100%***********************]  12 of 12 completed\n"
     ]
    }
   ],
   "source": [
    "price13f_filenames, nav13f_filenames,titles_13f,plot_titles=back_export(portfolios)"
   ]
  },
  {
   "cell_type": "markdown",
   "metadata": {},
   "source": [
    "#### Export a content log for future analytics"
   ]
  },
  {
   "cell_type": "code",
   "execution_count": 121,
   "metadata": {},
   "outputs": [],
   "source": [
    "main_output={\"13F Title\":titles_13f, \"13F Price\":price13f_filenames, \"13F NAV\":nav13f_filenames, \"13F vs WSB Plot Titles\":plot_titles}\n",
    "file_log=pd.DataFrame(main_output)\n",
    "file_log.to_csv('13F Files Log.csv',index=False, header=True)"
   ]
  },
  {
   "cell_type": "markdown",
   "metadata": {},
   "source": [
    "### Part II --- Reddit Scraper + Backtest"
   ]
  },
  {
   "cell_type": "markdown",
   "metadata": {},
   "source": [
    "#### Package set-up for Reddit scraper and backtest"
   ]
  },
  {
   "cell_type": "code",
   "execution_count": 10,
   "metadata": {},
   "outputs": [],
   "source": [
    "#Import all necessary packages\n",
    "import pandas as pd\n",
    "import re\n",
    "import datetime as dt\n",
    "from psaw import PushshiftAPI\n",
    "\n",
    "import nltk\n",
    "from nltk.tokenize import word_tokenize\n",
    "from nltk.corpus import stopwords\n",
    "\n",
    "from vaderSentiment.vaderSentiment import SentimentIntensityAnalyzer\n",
    "\n",
    "import yfinance as yf  \n",
    "import matplotlib.pyplot as plt\n",
    "import numpy as np\n"
   ]
  },
  {
   "cell_type": "markdown",
   "metadata": {},
   "source": [
    "#### Reddit Scraper"
   ]
  },
  {
   "cell_type": "code",
   "execution_count": 12,
   "metadata": {},
   "outputs": [],
   "source": [
    "#Build a scraper function that retireve historical reddits posts thru PushShift API.\n",
    "def scraper_initializer(start_year,start_month,start_day,end_year,end_month,end_day):\n",
    "\n",
    "    #Set up starting and ending time for the scraper.\n",
    "    start_epoch=int(dt.datetime(start_year, start_month, start_month).timestamp())\n",
    "    end_epoch=int(dt.datetime(end_year, end_month, end_day).timestamp())\n",
    "\n",
    "    #Set up keywords for our search.\n",
    "    keyword='(YOLO)|(DD)|(BUY)'\n",
    "\n",
    "    # Initialize PushShift.\n",
    "    api = PushshiftAPI()\n",
    "    \n",
    "    #Call the API to grab the data.\n",
    "    api_request_generator = api.search_submissions(subreddit='wallstreetbets', q=keyword, after = start_epoch, before=end_epoch)\n",
    "    \n",
    "    #Store the data into a DataFrame.\n",
    "    data = pd.DataFrame([submission.d_ for submission in api_request_generator])\n",
    "    data['date'] = pd.to_datetime(data['created_utc'], utc=True, unit='s')\n",
    "    \n",
    "    return data"
   ]
  },
  {
   "cell_type": "markdown",
   "metadata": {},
   "source": [
    "#### Sentiment Analyzer"
   ]
  },
  {
   "cell_type": "code",
   "execution_count": 13,
   "metadata": {},
   "outputs": [],
   "source": [
    "#Build a sentiment analyzer to select the positive posts because we only need tickers for long portfolio.\n",
    "def sentiment_analyzer(dataFrame):\n",
    "    # Initialize Vader.\n",
    "    sentimentAnalyser = SentimentIntensityAnalyzer()\n",
    "\n",
    "    #define sentiment test function.\n",
    "    def test_sentiment(text):\n",
    "        scores = sentimentAnalyser.polarity_scores(text)\n",
    "        compound_score = scores['compound']\n",
    "        return compound_score\n",
    "\n",
    "    # add sentiment scores to the search result dataframe.\n",
    "    dataFrame['sentiment'] = dataFrame['title'].apply(test_sentiment)\n",
    "    #Return only posts with positive sentiment.\n",
    "    dataFrame=dataFrame[dataFrame.sentiment>0]\n",
    "    return dataFrame"
   ]
  },
  {
   "cell_type": "markdown",
   "metadata": {},
   "source": [
    "#### Ticker Finder"
   ]
  },
  {
   "cell_type": "code",
   "execution_count": 14,
   "metadata": {},
   "outputs": [],
   "source": [
    "#Build a ticker finder function to pick out the tickers from texts, return their frequency, and calculate their total score.\n",
    "def ticker_finder(dataFrame):\n",
    "    #First, we want to tokenize each titles and find the tickers following the dollar sign '$'.\n",
    "    #Create an empty list.\n",
    "    ticker_list=[]\n",
    "    #Tokenize each title using the nltk function.\n",
    "    for title in dataFrame['title']:\n",
    "        tokenized_word=word_tokenize(title)\n",
    "        #Identify the '$' and add the word following the sign to the list.\n",
    "        for ti in range (0,len(tokenized_word)):\n",
    "            if tokenized_word[ti]=='$':\n",
    "                try:\n",
    "                    ticker_index=ti+1\n",
    "                    ticker_list.append(tokenized_word[ticker_index])\n",
    "                except:\n",
    "                    None\n",
    "    \n",
    "    #Filter out emojis and random symbols.\n",
    "    emoji = re.compile(\"[\"\n",
    "        u\"\\U0001F600-\\U0001F64F\"  # emoticons\n",
    "        u\"\\U0001F300-\\U0001F5FF\"  # symbols & pictographs\n",
    "        u\"\\U0001F680-\\U0001F6FF\"  # transport & map symbols\n",
    "        u\"\\U0001F1E0-\\U0001F1FF\"  # flags (IOS)\n",
    "        u\"\\U00002500-\\U00002BEF\"  # chinese char\n",
    "        u\"\\U00002702-\\U000027B0\"\n",
    "        u\"\\U00002702-\\U000027B0\"\n",
    "        u\"\\U000024C2-\\U0001F251\"\n",
    "        u\"\\U0001f926-\\U0001f937\"\n",
    "        u\"\\U00010000-\\U0010ffff\"\n",
    "        u\"\\u2640-\\u2642\" \n",
    "        u\"\\u2600-\\u2B55\"\n",
    "        u\"\\u200d\"\n",
    "        u\"\\u23cf\"\n",
    "        u\"\\u23e9\"\n",
    "        u\"\\u231a\"\n",
    "        u\"\\ufe0f\"  # dingbats\n",
    "        u\"\\u3030\"\n",
    "                      \"]+\", re.UNICODE)\n",
    "\n",
    "    for i in range(len(ticker_list)):\n",
    "        ticker_list[i]=emoji.sub(r'', ticker_list[i]) \n",
    "    \n",
    "    #Make all items in uppercase.\n",
    "    for i in range(len(ticker_list)):\n",
    "        ticker_list[i] = ticker_list[i].upper()\n",
    "    #Remove the duplicates.\n",
    "    ticker_list = set(ticker_list)\n",
    "    ticker_list = list(ticker_list)\n",
    "    \n",
    "    #Remove stop words.\n",
    "    stop_words=set(stopwords.words(\"english\"))\n",
    "    ticker_list1=[]\n",
    "    for token in ticker_list:\n",
    "        token=token.lower()\n",
    "        if token not in stop_words:\n",
    "            ticker_list1.append(token.upper())\n",
    "    \n",
    "    #Filter out the numbers, punctutions, and common words on the forum. \n",
    "    filter_list=['0','1','2','3','4','5','6','7','8','9',\n",
    "                 '$','?',',','.','(',')',':','!','-','%','&','/','=','~','+','*','^','@','#',\n",
    "                 'SSSS','CALL','CALLS','PUT','PUTS','BUY','SELL','US','TRADING','DD','YOLO','MONEY','OIL','LIKE',\n",
    "                 'DOUBLE','MAKE','TODAY','I','MOON','WORTH','LETS','CASHAPP','ROBINHOOD','DOGE','BITCOIN','ETHERIUM',\n",
    "                 'END','TOGETHER','SHORT']\n",
    "    ticker_list2 = [x for x in ticker_list1 if\n",
    "                  all(y not in x for y in filter_list)]     \n",
    "    \n",
    "    #Because some users did not follow the etiquette of writting ticker symbol after the dollar sign '$', we need to search the titles again for tickers not folowing a '$'.\n",
    "    complete_tickers=[]\n",
    "    \n",
    "    for title in dataFrame['title']:\n",
    "        tokenized_word=word_tokenize(title)\n",
    "        for tic in tokenized_word:\n",
    "            if tic in ticker_list2:\n",
    "                complete_tickers.append(tic)\n",
    "    \n",
    "    #Create a disctionary to store the frequency of each ticker.\n",
    "    ticker_count={}\n",
    "    for t in complete_tickers:\n",
    "        ticker_count[t]=0\n",
    "\n",
    "    for t in complete_tickers:\n",
    "        ticker_count[t]+=1\n",
    "    \n",
    "    #Convert the dictionary to a DataFrame.\n",
    "    ticker_frequency=pd.DataFrame(ticker_count.items(), columns=['ticker', 'frequency'])\n",
    "    \n",
    "    #Calculate the upvotes(score) that the posts where each ticker was mentioned have received, then assign the total score to the respective tickers.\n",
    "    ticker_frequency['score']=0\n",
    "\n",
    "    for title in dataFrame['title']:\n",
    "        tokenized_word=word_tokenize(title)\n",
    "        for token in tokenized_word:\n",
    "            token=token.upper()\n",
    "            for ticker in ticker_frequency['ticker']:\n",
    "                if token == ticker:\n",
    "                    temp_score=dataFrame.score[dataFrame.title==title].values[0]\n",
    "                    ticker_frequency.score[ticker_frequency.ticker==ticker]+=temp_score\n",
    "    \n",
    "    #Rank the tickers by their score.\n",
    "    ticker_scoreboard=ticker_frequency.sort_values(by='score',ascending=False)\n",
    "    \n",
    "    return ticker_scoreboard\n",
    "    "
   ]
  },
  {
   "cell_type": "markdown",
   "metadata": {},
   "source": [
    "#### Wallstbets Portfolio Backtest"
   ]
  },
  {
   "cell_type": "code",
   "execution_count": 15,
   "metadata": {},
   "outputs": [],
   "source": [
    "#Backtest the Wall St. portfolios' theoretical performance\n",
    "def wsb_backtest(start_time,end_time,tickers):\n",
    "    #Retrieve historical data from yfinance API\n",
    "    data = yf.download(tickers,start_time,end_time)\n",
    "    data_price = data['Adj Close']\n",
    "    #If a ticker is invalid, drop its column\n",
    "    non_ticker=data_price.columns[data_price.iloc[0].isna()].tolist()\n",
    "    for item in non_ticker:\n",
    "        data_price=data_price.drop(item,axis=1)\n",
    "    #If the last date is a non-trading day, then drop the last row\n",
    "    if data_price.iloc[-1].isna().any()==True:\n",
    "        data_price=data_price[:-1]\n",
    "    #Calculate Net Asset Values for each position\n",
    "    data_NAV=data_price/data_price.iloc[0] \n",
    "    #Calculate the portfolio NAV\n",
    "    data_NAV['NAV']=(data_NAV.sum(axis=1))/(len(tickers)-len(non_ticker))\n",
    "    \n",
    "    #Create plot titles for later use\n",
    "    title='WSB Backtest '+start_time+' to '+end_time\n",
    "\n",
    "    return data_price,data_NAV,title"
   ]
  },
  {
   "cell_type": "markdown",
   "metadata": {},
   "source": [
    "#### Run Reddit Scraper, Sentimental Analysis, Ticker Finder, WSB_backtest functions"
   ]
  },
  {
   "cell_type": "code",
   "execution_count": 16,
   "metadata": {},
   "outputs": [],
   "source": [
    "#Main function that executes all the above functions.\n",
    "def wsb_main():\n",
    "    search_start=[[2015,11,16],[2016,2,16],[2016,5,16],[2016,8,16],[2017,11,16],[2018,2,16],[2018,5,16],[2018,8,16],\n",
    "                  [2019,11,16],[2020,2,16],[2020,5,16],[2020,8,16]]\n",
    "    search_end=[[2016,2,15],[2016,5,15],[2016,8,15],[2016,11,15],[2018,2,15],[2018,5,15],[2018,8,15],[2018,11,15],\n",
    "                [2020,2,15],[2020,5,15],[2020,8,15],[2020,11,15]]\n",
    "    \n",
    "    #Initialize empty lists for storing csv filenames that will be exported.\n",
    "    price_wsb_filenames=[]\n",
    "    nav_wsb_filenames=[]\n",
    "    titles_wsb=[]\n",
    "    \n",
    "    #Scrape reddit posts, extract tickers, backtest portfolio, and export results.\n",
    "    for i in range(0,len(search_start)):\n",
    "        start_year=search_start[i][0]\n",
    "        start_month=search_start[i][1]\n",
    "        start_day=search_start[i][2]  \n",
    "        end_year=search_end[i][0]\n",
    "        end_month=search_end[i][1]\n",
    "        end_day=search_end[i][2]\n",
    "    \n",
    "        df=scraper_initializer(start_year,start_month,start_day,end_year,end_month,end_day)\n",
    "    \n",
    "        positive_posts=sentiment_analyzer(df)\n",
    "    \n",
    "        ticker_scoreboard=ticker_finder(positive_posts)\n",
    "    \n",
    "        tickers=list(ticker_scoreboard['ticker'][:21])\n",
    "    \n",
    "        #Reset time input for backtest function\n",
    "        port_start_times=['2016-2-16', '2016-5-16', '2016-8-16', '2016-11-16', '2018-2-16', '2018-5-16', '2018-8-16', '2018-11-16',\n",
    "                          '2020-2-16', '2020-5-16', '2020-8-16', '2020-11-16']\n",
    "        port_end_times=['2021-2-16', '2021-5-16', '2021-8-16', '2021-11-16', '2021-2-16', '2021-5-16', '2021-8-16', '2021-11-16', \n",
    "                        '2021-2-16', '2021-5-16', '2021-8-16', '2021-11-16']\n",
    "        start_time=port_start_times[i]\n",
    "        end_time=port_end_times[i]\n",
    "        \n",
    "        #Run backtests and export results as csv files.\n",
    "        data_price,data_NAV,title=wsb_backtest(start_time,end_time,tickers)\n",
    "        titles_wsb.append(title)\n",
    "        title_price=title+' (Price).csv'\n",
    "        title_nav=title+' (NAV).csv'\n",
    "        price_wsb_filenames.append(title_price)\n",
    "        nav_wsb_filenames.append(title_nav)\n",
    "        data_price.to_csv (title_price, index = True, header=True)\n",
    "        data_NAV.to_csv (title_nav, index = True, header=True)\n",
    "    \n",
    "    return price_wsb_filenames,nav_wsb_filenames,titles_wsb\n",
    "    \n",
    "\n",
    "    \n",
    "    "
   ]
  },
  {
   "cell_type": "markdown",
   "metadata": {},
   "source": [
    "#### Function results"
   ]
  },
  {
   "cell_type": "code",
   "execution_count": 260,
   "metadata": {
    "collapsed": true
   },
   "outputs": [
    {
     "name": "stderr",
     "output_type": "stream",
     "text": [
      "C:\\Users\\12wan\\anaconda3\\lib\\site-packages\\psaw\\PushshiftAPI.py:252: UserWarning: Not all PushShift shards are active. Query results may be incomplete\n",
      "  warnings.warn(shards_down_message)\n",
      "C:\\Users\\12wan\\anaconda3\\lib\\site-packages\\psaw\\PushshiftAPI.py:192: UserWarning: Got non 200 code 429\n",
      "  warnings.warn(\"Got non 200 code %s\" % response.status_code)\n",
      "C:\\Users\\12wan\\anaconda3\\lib\\site-packages\\psaw\\PushshiftAPI.py:180: UserWarning: Unable to connect to pushshift.io. Retrying after backoff.\n",
      "  warnings.warn(\"Unable to connect to pushshift.io. Retrying after backoff.\")\n",
      "<ipython-input-112-6ed2b3047ca4>:97: SettingWithCopyWarning: \n",
      "A value is trying to be set on a copy of a slice from a DataFrame\n",
      "\n",
      "See the caveats in the documentation: https://pandas.pydata.org/pandas-docs/stable/user_guide/indexing.html#returning-a-view-versus-a-copy\n",
      "  ticker_frequency.score[ticker_frequency.ticker==ticker]+=temp_score\n"
     ]
    },
    {
     "name": "stdout",
     "output_type": "stream",
     "text": [
      "[*********************100%***********************]  21 of 21 completed\n",
      "\n",
      "7 Failed downloads:\n",
      "- DATA: No data found, symbol may be delisted\n",
      "- BBRY: No data found for this date range, symbol may be delisted\n",
      "- LNKD: No data found for this date range, symbol may be delisted\n",
      "- TAXRETURNS: No data found, symbol may be delisted\n",
      "- BNHLF: No data found for this date range, symbol may be delisted\n",
      "- SUNE: No data found for this date range, symbol may be delisted\n",
      "- AMDA: No data found for this date range, symbol may be delisted\n"
     ]
    },
    {
     "name": "stderr",
     "output_type": "stream",
     "text": [
      "C:\\Users\\12wan\\anaconda3\\lib\\site-packages\\psaw\\PushshiftAPI.py:192: UserWarning: Got non 200 code 429\n",
      "  warnings.warn(\"Got non 200 code %s\" % response.status_code)\n",
      "C:\\Users\\12wan\\anaconda3\\lib\\site-packages\\psaw\\PushshiftAPI.py:180: UserWarning: Unable to connect to pushshift.io. Retrying after backoff.\n",
      "  warnings.warn(\"Unable to connect to pushshift.io. Retrying after backoff.\")\n",
      "C:\\Users\\12wan\\anaconda3\\lib\\site-packages\\psaw\\PushshiftAPI.py:252: UserWarning: Not all PushShift shards are active. Query results may be incomplete\n",
      "  warnings.warn(shards_down_message)\n",
      "<ipython-input-112-6ed2b3047ca4>:97: SettingWithCopyWarning: \n",
      "A value is trying to be set on a copy of a slice from a DataFrame\n",
      "\n",
      "See the caveats in the documentation: https://pandas.pydata.org/pandas-docs/stable/user_guide/indexing.html#returning-a-view-versus-a-copy\n",
      "  ticker_frequency.score[ticker_frequency.ticker==ticker]+=temp_score\n"
     ]
    },
    {
     "name": "stdout",
     "output_type": "stream",
     "text": [
      "[*********************100%***********************]  21 of 21 completed\n",
      "\n",
      "9 Failed downloads:\n",
      "- LNKD: No data found for this date range, symbol may be delisted\n",
      "- UPL: No data found, symbol may be delisted\n",
      "- VRX: No data found for this date range, symbol may be delisted\n",
      "- CYOU: No data found, symbol may be delisted\n",
      "- AGN: No data found, symbol may be delisted\n",
      "- PSUN: No data found for this date range, symbol may be delisted\n",
      "- SUNE: No data found for this date range, symbol may be delisted\n",
      "- ARO: No data found for this date range, symbol may be delisted\n",
      "- TRTC: No data found, symbol may be delisted\n"
     ]
    },
    {
     "name": "stderr",
     "output_type": "stream",
     "text": [
      "C:\\Users\\12wan\\anaconda3\\lib\\site-packages\\psaw\\PushshiftAPI.py:252: UserWarning: Not all PushShift shards are active. Query results may be incomplete\n",
      "  warnings.warn(shards_down_message)\n",
      "C:\\Users\\12wan\\anaconda3\\lib\\site-packages\\psaw\\PushshiftAPI.py:192: UserWarning: Got non 200 code 429\n",
      "  warnings.warn(\"Got non 200 code %s\" % response.status_code)\n",
      "C:\\Users\\12wan\\anaconda3\\lib\\site-packages\\psaw\\PushshiftAPI.py:180: UserWarning: Unable to connect to pushshift.io. Retrying after backoff.\n",
      "  warnings.warn(\"Unable to connect to pushshift.io. Retrying after backoff.\")\n",
      "<ipython-input-112-6ed2b3047ca4>:97: SettingWithCopyWarning: \n",
      "A value is trying to be set on a copy of a slice from a DataFrame\n",
      "\n",
      "See the caveats in the documentation: https://pandas.pydata.org/pandas-docs/stable/user_guide/indexing.html#returning-a-view-versus-a-copy\n",
      "  ticker_frequency.score[ticker_frequency.ticker==ticker]+=temp_score\n"
     ]
    },
    {
     "name": "stdout",
     "output_type": "stream",
     "text": [
      "[*********************100%***********************]  21 of 21 completed\n",
      "\n",
      "5 Failed downloads:\n",
      "- VRX: No data found for this date range, symbol may be delisted\n",
      "- YHOO: No data found for this date range, symbol may be delisted\n",
      "- SWHC: No data found for this date range, symbol may be delisted\n",
      "- KOOL: No data found, symbol may be delisted\n",
      "- MSTX: No data found for this date range, symbol may be delisted\n"
     ]
    },
    {
     "name": "stderr",
     "output_type": "stream",
     "text": [
      "C:\\Users\\12wan\\anaconda3\\lib\\site-packages\\psaw\\PushshiftAPI.py:252: UserWarning: Not all PushShift shards are active. Query results may be incomplete\n",
      "  warnings.warn(shards_down_message)\n",
      "C:\\Users\\12wan\\anaconda3\\lib\\site-packages\\psaw\\PushshiftAPI.py:192: UserWarning: Got non 200 code 429\n",
      "  warnings.warn(\"Got non 200 code %s\" % response.status_code)\n",
      "C:\\Users\\12wan\\anaconda3\\lib\\site-packages\\psaw\\PushshiftAPI.py:180: UserWarning: Unable to connect to pushshift.io. Retrying after backoff.\n",
      "  warnings.warn(\"Unable to connect to pushshift.io. Retrying after backoff.\")\n",
      "<ipython-input-112-6ed2b3047ca4>:97: SettingWithCopyWarning: \n",
      "A value is trying to be set on a copy of a slice from a DataFrame\n",
      "\n",
      "See the caveats in the documentation: https://pandas.pydata.org/pandas-docs/stable/user_guide/indexing.html#returning-a-view-versus-a-copy\n",
      "  ticker_frequency.score[ticker_frequency.ticker==ticker]+=temp_score\n"
     ]
    },
    {
     "name": "stdout",
     "output_type": "stream",
     "text": [
      "[*********************100%***********************]  21 of 21 completed\n",
      "\n",
      "3 Failed downloads:\n",
      "- VRX: No data found for this date range, symbol may be delisted\n",
      "- MSTX: No data found for this date range, symbol may be delisted\n",
      "- AHS: No data found for this date range, symbol may be delisted\n"
     ]
    },
    {
     "name": "stderr",
     "output_type": "stream",
     "text": [
      "C:\\Users\\12wan\\anaconda3\\lib\\site-packages\\psaw\\PushshiftAPI.py:252: UserWarning: Not all PushShift shards are active. Query results may be incomplete\n",
      "  warnings.warn(shards_down_message)\n",
      "C:\\Users\\12wan\\anaconda3\\lib\\site-packages\\psaw\\PushshiftAPI.py:192: UserWarning: Got non 200 code 429\n",
      "  warnings.warn(\"Got non 200 code %s\" % response.status_code)\n",
      "C:\\Users\\12wan\\anaconda3\\lib\\site-packages\\psaw\\PushshiftAPI.py:180: UserWarning: Unable to connect to pushshift.io. Retrying after backoff.\n",
      "  warnings.warn(\"Unable to connect to pushshift.io. Retrying after backoff.\")\n",
      "<ipython-input-112-6ed2b3047ca4>:97: SettingWithCopyWarning: \n",
      "A value is trying to be set on a copy of a slice from a DataFrame\n",
      "\n",
      "See the caveats in the documentation: https://pandas.pydata.org/pandas-docs/stable/user_guide/indexing.html#returning-a-view-versus-a-copy\n",
      "  ticker_frequency.score[ticker_frequency.ticker==ticker]+=temp_score\n"
     ]
    },
    {
     "name": "stdout",
     "output_type": "stream",
     "text": [
      "[*********************100%***********************]  21 of 21 completed\n",
      "\n",
      "3 Failed downloads:\n",
      "- BEAT: Data doesn't exist for startDate = 1518757200, endDate = 1613451600\n",
      "- ZX: No data found for this date range, symbol may be delisted\n",
      "- EARS: No data found, symbol may be delisted\n"
     ]
    },
    {
     "name": "stderr",
     "output_type": "stream",
     "text": [
      "C:\\Users\\12wan\\anaconda3\\lib\\site-packages\\psaw\\PushshiftAPI.py:192: UserWarning: Got non 200 code 429\n",
      "  warnings.warn(\"Got non 200 code %s\" % response.status_code)\n",
      "C:\\Users\\12wan\\anaconda3\\lib\\site-packages\\psaw\\PushshiftAPI.py:180: UserWarning: Unable to connect to pushshift.io. Retrying after backoff.\n",
      "  warnings.warn(\"Unable to connect to pushshift.io. Retrying after backoff.\")\n",
      "C:\\Users\\12wan\\anaconda3\\lib\\site-packages\\psaw\\PushshiftAPI.py:252: UserWarning: Not all PushShift shards are active. Query results may be incomplete\n",
      "  warnings.warn(shards_down_message)\n",
      "<ipython-input-112-6ed2b3047ca4>:97: SettingWithCopyWarning: \n",
      "A value is trying to be set on a copy of a slice from a DataFrame\n",
      "\n",
      "See the caveats in the documentation: https://pandas.pydata.org/pandas-docs/stable/user_guide/indexing.html#returning-a-view-versus-a-copy\n",
      "  ticker_frequency.score[ticker_frequency.ticker==ticker]+=temp_score\n"
     ]
    },
    {
     "name": "stdout",
     "output_type": "stream",
     "text": [
      "[*********************100%***********************]  21 of 21 completed\n",
      "\n",
      "1 Failed download:\n",
      "- PTLA: No data found, symbol may be delisted\n"
     ]
    },
    {
     "name": "stderr",
     "output_type": "stream",
     "text": [
      "C:\\Users\\12wan\\anaconda3\\lib\\site-packages\\psaw\\PushshiftAPI.py:252: UserWarning: Not all PushShift shards are active. Query results may be incomplete\n",
      "  warnings.warn(shards_down_message)\n",
      "C:\\Users\\12wan\\anaconda3\\lib\\site-packages\\psaw\\PushshiftAPI.py:192: UserWarning: Got non 200 code 429\n",
      "  warnings.warn(\"Got non 200 code %s\" % response.status_code)\n",
      "C:\\Users\\12wan\\anaconda3\\lib\\site-packages\\psaw\\PushshiftAPI.py:180: UserWarning: Unable to connect to pushshift.io. Retrying after backoff.\n",
      "  warnings.warn(\"Unable to connect to pushshift.io. Retrying after backoff.\")\n",
      "<ipython-input-112-6ed2b3047ca4>:97: SettingWithCopyWarning: \n",
      "A value is trying to be set on a copy of a slice from a DataFrame\n",
      "\n",
      "See the caveats in the documentation: https://pandas.pydata.org/pandas-docs/stable/user_guide/indexing.html#returning-a-view-versus-a-copy\n",
      "  ticker_frequency.score[ticker_frequency.ticker==ticker]+=temp_score\n"
     ]
    },
    {
     "name": "stdout",
     "output_type": "stream",
     "text": [
      "[*********************100%***********************]  21 of 21 completed\n",
      "\n",
      "1 Failed download:\n",
      "- SOGO: No data found, symbol may be delisted\n"
     ]
    },
    {
     "name": "stderr",
     "output_type": "stream",
     "text": [
      "C:\\Users\\12wan\\anaconda3\\lib\\site-packages\\psaw\\PushshiftAPI.py:252: UserWarning: Not all PushShift shards are active. Query results may be incomplete\n",
      "  warnings.warn(shards_down_message)\n",
      "C:\\Users\\12wan\\anaconda3\\lib\\site-packages\\psaw\\PushshiftAPI.py:192: UserWarning: Got non 200 code 429\n",
      "  warnings.warn(\"Got non 200 code %s\" % response.status_code)\n",
      "C:\\Users\\12wan\\anaconda3\\lib\\site-packages\\psaw\\PushshiftAPI.py:180: UserWarning: Unable to connect to pushshift.io. Retrying after backoff.\n",
      "  warnings.warn(\"Unable to connect to pushshift.io. Retrying after backoff.\")\n",
      "<ipython-input-112-6ed2b3047ca4>:97: SettingWithCopyWarning: \n",
      "A value is trying to be set on a copy of a slice from a DataFrame\n",
      "\n",
      "See the caveats in the documentation: https://pandas.pydata.org/pandas-docs/stable/user_guide/indexing.html#returning-a-view-versus-a-copy\n",
      "  ticker_frequency.score[ticker_frequency.ticker==ticker]+=temp_score\n"
     ]
    },
    {
     "name": "stdout",
     "output_type": "stream",
     "text": [
      "[*********************100%***********************]  21 of 21 completed\n",
      "\n",
      "3 Failed downloads:\n",
      "- SHARES: No data found, symbol may be delisted\n",
      "- WEED: No data found, symbol may be delisted\n",
      "- TTPH: No data found, symbol may be delisted\n"
     ]
    },
    {
     "name": "stderr",
     "output_type": "stream",
     "text": [
      "C:\\Users\\12wan\\anaconda3\\lib\\site-packages\\psaw\\PushshiftAPI.py:252: UserWarning: Not all PushShift shards are active. Query results may be incomplete\n",
      "  warnings.warn(shards_down_message)\n",
      "C:\\Users\\12wan\\anaconda3\\lib\\site-packages\\psaw\\PushshiftAPI.py:192: UserWarning: Got non 200 code 429\n",
      "  warnings.warn(\"Got non 200 code %s\" % response.status_code)\n",
      "C:\\Users\\12wan\\anaconda3\\lib\\site-packages\\psaw\\PushshiftAPI.py:180: UserWarning: Unable to connect to pushshift.io. Retrying after backoff.\n",
      "  warnings.warn(\"Unable to connect to pushshift.io. Retrying after backoff.\")\n",
      "<ipython-input-112-6ed2b3047ca4>:97: SettingWithCopyWarning: \n",
      "A value is trying to be set on a copy of a slice from a DataFrame\n",
      "\n",
      "See the caveats in the documentation: https://pandas.pydata.org/pandas-docs/stable/user_guide/indexing.html#returning-a-view-versus-a-copy\n",
      "  ticker_frequency.score[ticker_frequency.ticker==ticker]+=temp_score\n"
     ]
    },
    {
     "name": "stdout",
     "output_type": "stream",
     "text": [
      "[*********************100%***********************]  21 of 21 completed\n",
      "\n",
      "2 Failed downloads:\n",
      "- BECKY: No data found, symbol may be delisted\n",
      "- APPL: No data found for this date range, symbol may be delisted\n"
     ]
    },
    {
     "name": "stderr",
     "output_type": "stream",
     "text": [
      "C:\\Users\\12wan\\anaconda3\\lib\\site-packages\\psaw\\PushshiftAPI.py:252: UserWarning: Not all PushShift shards are active. Query results may be incomplete\n",
      "  warnings.warn(shards_down_message)\n",
      "C:\\Users\\12wan\\anaconda3\\lib\\site-packages\\psaw\\PushshiftAPI.py:192: UserWarning: Got non 200 code 429\n",
      "  warnings.warn(\"Got non 200 code %s\" % response.status_code)\n",
      "C:\\Users\\12wan\\anaconda3\\lib\\site-packages\\psaw\\PushshiftAPI.py:180: UserWarning: Unable to connect to pushshift.io. Retrying after backoff.\n",
      "  warnings.warn(\"Unable to connect to pushshift.io. Retrying after backoff.\")\n",
      "<ipython-input-112-6ed2b3047ca4>:97: SettingWithCopyWarning: \n",
      "A value is trying to be set on a copy of a slice from a DataFrame\n",
      "\n",
      "See the caveats in the documentation: https://pandas.pydata.org/pandas-docs/stable/user_guide/indexing.html#returning-a-view-versus-a-copy\n",
      "  ticker_frequency.score[ticker_frequency.ticker==ticker]+=temp_score\n"
     ]
    },
    {
     "name": "stdout",
     "output_type": "stream",
     "text": [
      "[*********************100%***********************]  21 of 21 completed\n",
      "\n",
      "1 Failed download:\n",
      "- WORK: No data found, symbol may be delisted\n"
     ]
    },
    {
     "name": "stderr",
     "output_type": "stream",
     "text": [
      "C:\\Users\\12wan\\anaconda3\\lib\\site-packages\\psaw\\PushshiftAPI.py:252: UserWarning: Not all PushShift shards are active. Query results may be incomplete\n",
      "  warnings.warn(shards_down_message)\n",
      "C:\\Users\\12wan\\anaconda3\\lib\\site-packages\\psaw\\PushshiftAPI.py:192: UserWarning: Got non 200 code 429\n",
      "  warnings.warn(\"Got non 200 code %s\" % response.status_code)\n",
      "C:\\Users\\12wan\\anaconda3\\lib\\site-packages\\psaw\\PushshiftAPI.py:180: UserWarning: Unable to connect to pushshift.io. Retrying after backoff.\n",
      "  warnings.warn(\"Unable to connect to pushshift.io. Retrying after backoff.\")\n",
      "<ipython-input-112-6ed2b3047ca4>:97: SettingWithCopyWarning: \n",
      "A value is trying to be set on a copy of a slice from a DataFrame\n",
      "\n",
      "See the caveats in the documentation: https://pandas.pydata.org/pandas-docs/stable/user_guide/indexing.html#returning-a-view-versus-a-copy\n",
      "  ticker_frequency.score[ticker_frequency.ticker==ticker]+=temp_score\n"
     ]
    },
    {
     "name": "stdout",
     "output_type": "stream",
     "text": [
      "[*********************100%***********************]  21 of 21 completed\n",
      "\n",
      "1 Failed download:\n",
      "- WORK: No data found, symbol may be delisted\n"
     ]
    },
    {
     "name": "stderr",
     "output_type": "stream",
     "text": [
      "C:\\Users\\12wan\\anaconda3\\lib\\site-packages\\psaw\\PushshiftAPI.py:252: UserWarning: Not all PushShift shards are active. Query results may be incomplete\n",
      "  warnings.warn(shards_down_message)\n",
      "C:\\Users\\12wan\\anaconda3\\lib\\site-packages\\psaw\\PushshiftAPI.py:192: UserWarning: Got non 200 code 429\n",
      "  warnings.warn(\"Got non 200 code %s\" % response.status_code)\n",
      "C:\\Users\\12wan\\anaconda3\\lib\\site-packages\\psaw\\PushshiftAPI.py:180: UserWarning: Unable to connect to pushshift.io. Retrying after backoff.\n",
      "  warnings.warn(\"Unable to connect to pushshift.io. Retrying after backoff.\")\n",
      "<ipython-input-112-6ed2b3047ca4>:97: SettingWithCopyWarning: \n",
      "A value is trying to be set on a copy of a slice from a DataFrame\n",
      "\n",
      "See the caveats in the documentation: https://pandas.pydata.org/pandas-docs/stable/user_guide/indexing.html#returning-a-view-versus-a-copy\n",
      "  ticker_frequency.score[ticker_frequency.ticker==ticker]+=temp_score\n"
     ]
    },
    {
     "name": "stdout",
     "output_type": "stream",
     "text": [
      "[*********************100%***********************]  21 of 21 completed\n",
      "\n",
      "3 Failed downloads:\n",
      "- READY: No data found, symbol may be delisted\n",
      "- ROPE: No data found, symbol may be delisted\n",
      "- WORK: No data found, symbol may be delisted\n"
     ]
    }
   ],
   "source": [
    "price_wsb_filenames,nav_wsb_filenames,titles_wsb=wsb_main()"
   ]
  },
  {
   "cell_type": "markdown",
   "metadata": {},
   "source": [
    "#### Export a content log for future analytics"
   ]
  },
  {
   "cell_type": "code",
   "execution_count": 120,
   "metadata": {},
   "outputs": [],
   "source": [
    "main_output2={\"WSB titles\":titles_wsb, \"WSB Price\":price_wsb_filenames, \"WSB NAV\":nav_wsb_filenames, \"13F vs WSB Plot Titles\":plot_titles}\n",
    "file_log2=pd.DataFrame(main_output2)\n",
    "file_log2.to_csv('WSB Files Log.csv',index=False, header=True)"
   ]
  },
  {
   "cell_type": "markdown",
   "metadata": {},
   "source": [
    "### Part III --- Risk Analysis"
   ]
  },
  {
   "cell_type": "code",
   "execution_count": 18,
   "metadata": {},
   "outputs": [],
   "source": [
    "#Import packages\n",
    "import math as mt\n",
    "import numpy as np"
   ]
  },
  {
   "cell_type": "markdown",
   "metadata": {},
   "source": [
    "#### Alpha Against SPY (SPDR S&P 500 ETF Trust)"
   ]
  },
  {
   "cell_type": "code",
   "execution_count": 19,
   "metadata": {},
   "outputs": [],
   "source": [
    "def alpha_against_SPY(dataframe,start_time,end_time):\n",
    "\n",
    "    SPY = yf.download('SPY',start_time,end_time)\n",
    "    \n",
    "    SPY_price = SPY['Adj Close']\n",
    "    SPY_price['NAV']=SPY_price/SPY_price.iloc[0]\n",
    "    SPY_price['NAV'] = SPY_price['NAV'].dropna()\n",
    "    alpha = mt.log(dataframe['NAV'].iloc[-1]) - mt.log(SPY_price['NAV'].iloc[-1])\n",
    "    \n",
    "    return alpha"
   ]
  },
  {
   "cell_type": "markdown",
   "metadata": {},
   "source": [
    "#### Sortino Ratio"
   ]
  },
  {
   "cell_type": "code",
   "execution_count": 20,
   "metadata": {},
   "outputs": [],
   "source": [
    "def sortino(compound_annual_return, risk_free_rate, dataframe, number_of_holding_periods):\n",
    "    diff = dataframe['NAV'].diff()\n",
    "    diff = diff.tail(diff.shape[0] -1)\n",
    "    temp = np.minimum(0,diff)\n",
    "    a = [x for x in temp if x<0]\n",
    "    \n",
    "    temp_expectation = temp.sum()**2 / len(a)\n",
    "    downside_dev=np.sqrt(temp_expectation)\n",
    "    sortino_ratio = (compound_annual_return-(((1+risk_free_rate)**number_of_holding_periods)-1)) / downside_dev\n",
    "    return sortino_ratio"
   ]
  },
  {
   "cell_type": "markdown",
   "metadata": {},
   "source": [
    "#### Holding Period Return"
   ]
  },
  {
   "cell_type": "code",
   "execution_count": 21,
   "metadata": {},
   "outputs": [],
   "source": [
    "def hpr(dataframe):\n",
    "    hpr = dataframe['NAV'].iloc[-1]\n",
    "    hpr_percentage = '{:.2%}'.format(hpr)\n",
    "    return hpr_percentage"
   ]
  },
  {
   "cell_type": "markdown",
   "metadata": {},
   "source": [
    "#### Sharpe Ratio"
   ]
  },
  {
   "cell_type": "code",
   "execution_count": 22,
   "metadata": {},
   "outputs": [],
   "source": [
    "def sharpe(compound_continuous_return, standard_deviation, risk_free_rate, number_of_holding_periods):\n",
    "    sharpe = (compound_continuous_return-(((1+risk_free_rate)**number_of_holding_periods)-1)) / standard_deviation\n",
    "    return sharpe\n"
   ]
  },
  {
   "cell_type": "markdown",
   "metadata": {},
   "source": [
    "#### Continuous Return"
   ]
  },
  {
   "cell_type": "code",
   "execution_count": 23,
   "metadata": {},
   "outputs": [],
   "source": [
    "def cont_return(dataframe):\n",
    "    continuous_return = mt.log(dataframe['NAV'].iloc[-1])\n",
    "    return continuous_return\n"
   ]
  },
  {
   "cell_type": "markdown",
   "metadata": {},
   "source": [
    "#### Standard Deviation"
   ]
  },
  {
   "cell_type": "code",
   "execution_count": 24,
   "metadata": {},
   "outputs": [],
   "source": [
    "def standard_deviation(dataframe):\n",
    "    std = dataframe['NAV'].std(axis=0, skipna=True)\n",
    "    return std"
   ]
  },
  {
   "cell_type": "markdown",
   "metadata": {},
   "source": [
    "#### Risk Matrices Calculation for WSB Portfolios"
   ]
  },
  {
   "cell_type": "code",
   "execution_count": 25,
   "metadata": {},
   "outputs": [],
   "source": [
    "def performance_wsb():\n",
    "    wsb_performance=[]\n",
    "    #Import each of the backtest results and perform risk analysis\n",
    "    for x in (nav_wsb_filenames):\n",
    "        s = pd.read_csv(x)\n",
    "        if len(x) % 45 == 0:\n",
    "            start_time = x[13:22]\n",
    "            end_time = x[26:35]\n",
    "        else:\n",
    "            start_time= x[13:23]\n",
    "            end_time= x[27:37]\n",
    "        \n",
    "        if x[13:17] =='2016':\n",
    "            rf = 0.01\n",
    "            n=5\n",
    "        elif x[13:17] =='2018':\n",
    "            rf = 0.0038\n",
    "            n=3\n",
    "        else:\n",
    "            rf = 0.005\n",
    "            n=1\n",
    "            \n",
    "        hp_r = hpr(s)\n",
    "        std = standard_deviation(s)\n",
    "        cont_r = cont_return(s)\n",
    "        sharp = sharpe(cont_r, std, rf, n)\n",
    "        sortin = sortino(cont_r, rf, s, n)\n",
    "        alpha = alpha_against_SPY(s,start_time,end_time)\n",
    "        wsb_performance.append([hp_r,std,cont_r,sharp,sortin,alpha])\n",
    "    return wsb_performance"
   ]
  },
  {
   "cell_type": "markdown",
   "metadata": {},
   "source": [
    "#### Risk Matrices Calculation for Wall St. Portfolios"
   ]
  },
  {
   "cell_type": "code",
   "execution_count": 26,
   "metadata": {},
   "outputs": [],
   "source": [
    "def performance_wallst():\n",
    "    performance_13F=[]\n",
    "    #Import each of the backtest results and perform risk analysis\n",
    "    for x in (nav13f_filenames):\n",
    "        s = pd.read_csv(x)\n",
    "        if len(x) % 45 == 0:\n",
    "            start_time = x[13:22]\n",
    "            end_time = x[26:35]\n",
    "        else:\n",
    "            start_time= x[13:23]\n",
    "            end_time= x[27:37]\n",
    "        \n",
    "        if x[14:18] =='2016':\n",
    "            rf = 0.01\n",
    "            n=5\n",
    "        elif x[14:18] =='2018':\n",
    "            rf = 0.0038\n",
    "            n=3\n",
    "        else:\n",
    "            rf = 0.005\n",
    "            n=1\n",
    "            \n",
    "        hp_r = hpr(s)\n",
    "        std = standard_deviation(s)\n",
    "        cont_r = cont_return(s)\n",
    "        sharp = sharpe(cont_r, std, rf, n)\n",
    "        sortin = sortino(cont_r, rf, s, n)\n",
    "        alpha = alpha_against_SPY(s,start_time,end_time)\n",
    "        performance_13F.append([hp_r,std,cont_r,sharp,sortin,alpha])\n",
    "    return performance_13F"
   ]
  },
  {
   "cell_type": "code",
   "execution_count": 280,
   "metadata": {
    "collapsed": true
   },
   "outputs": [
    {
     "name": "stdout",
     "output_type": "stream",
     "text": [
      "[*********************100%***********************]  1 of 1 completed\n"
     ]
    },
    {
     "name": "stderr",
     "output_type": "stream",
     "text": [
      "<ipython-input-276-d1c6d35f3e1f>:6: SettingWithCopyWarning: \n",
      "A value is trying to be set on a copy of a slice from a DataFrame\n",
      "\n",
      "See the caveats in the documentation: https://pandas.pydata.org/pandas-docs/stable/user_guide/indexing.html#returning-a-view-versus-a-copy\n",
      "  SPY_price['NAV']=SPY_price/SPY_price.iloc[0]\n"
     ]
    },
    {
     "name": "stdout",
     "output_type": "stream",
     "text": [
      "[*********************100%***********************]  1 of 1 completed\n"
     ]
    },
    {
     "name": "stderr",
     "output_type": "stream",
     "text": [
      "<ipython-input-276-d1c6d35f3e1f>:6: SettingWithCopyWarning: \n",
      "A value is trying to be set on a copy of a slice from a DataFrame\n",
      "\n",
      "See the caveats in the documentation: https://pandas.pydata.org/pandas-docs/stable/user_guide/indexing.html#returning-a-view-versus-a-copy\n",
      "  SPY_price['NAV']=SPY_price/SPY_price.iloc[0]\n"
     ]
    },
    {
     "name": "stdout",
     "output_type": "stream",
     "text": [
      "[*********************100%***********************]  1 of 1 completed\n"
     ]
    },
    {
     "name": "stderr",
     "output_type": "stream",
     "text": [
      "<ipython-input-276-d1c6d35f3e1f>:6: SettingWithCopyWarning: \n",
      "A value is trying to be set on a copy of a slice from a DataFrame\n",
      "\n",
      "See the caveats in the documentation: https://pandas.pydata.org/pandas-docs/stable/user_guide/indexing.html#returning-a-view-versus-a-copy\n",
      "  SPY_price['NAV']=SPY_price/SPY_price.iloc[0]\n"
     ]
    },
    {
     "name": "stdout",
     "output_type": "stream",
     "text": [
      "[*********************100%***********************]  1 of 1 completed\n"
     ]
    },
    {
     "name": "stderr",
     "output_type": "stream",
     "text": [
      "<ipython-input-276-d1c6d35f3e1f>:6: SettingWithCopyWarning: \n",
      "A value is trying to be set on a copy of a slice from a DataFrame\n",
      "\n",
      "See the caveats in the documentation: https://pandas.pydata.org/pandas-docs/stable/user_guide/indexing.html#returning-a-view-versus-a-copy\n",
      "  SPY_price['NAV']=SPY_price/SPY_price.iloc[0]\n"
     ]
    },
    {
     "name": "stdout",
     "output_type": "stream",
     "text": [
      "[*********************100%***********************]  1 of 1 completed\n",
      "[*********************100%***********************]  1 of 1 completed"
     ]
    },
    {
     "name": "stderr",
     "output_type": "stream",
     "text": [
      "<ipython-input-276-d1c6d35f3e1f>:6: SettingWithCopyWarning: \n",
      "A value is trying to be set on a copy of a slice from a DataFrame\n",
      "\n",
      "See the caveats in the documentation: https://pandas.pydata.org/pandas-docs/stable/user_guide/indexing.html#returning-a-view-versus-a-copy\n",
      "  SPY_price['NAV']=SPY_price/SPY_price.iloc[0]\n"
     ]
    },
    {
     "name": "stdout",
     "output_type": "stream",
     "text": [
      "\n"
     ]
    },
    {
     "name": "stderr",
     "output_type": "stream",
     "text": [
      "<ipython-input-276-d1c6d35f3e1f>:6: SettingWithCopyWarning: \n",
      "A value is trying to be set on a copy of a slice from a DataFrame\n",
      "\n",
      "See the caveats in the documentation: https://pandas.pydata.org/pandas-docs/stable/user_guide/indexing.html#returning-a-view-versus-a-copy\n",
      "  SPY_price['NAV']=SPY_price/SPY_price.iloc[0]\n"
     ]
    },
    {
     "name": "stdout",
     "output_type": "stream",
     "text": [
      "[*********************100%***********************]  1 of 1 completed\n"
     ]
    },
    {
     "name": "stderr",
     "output_type": "stream",
     "text": [
      "<ipython-input-276-d1c6d35f3e1f>:6: SettingWithCopyWarning: \n",
      "A value is trying to be set on a copy of a slice from a DataFrame\n",
      "\n",
      "See the caveats in the documentation: https://pandas.pydata.org/pandas-docs/stable/user_guide/indexing.html#returning-a-view-versus-a-copy\n",
      "  SPY_price['NAV']=SPY_price/SPY_price.iloc[0]\n"
     ]
    },
    {
     "name": "stdout",
     "output_type": "stream",
     "text": [
      "[*********************100%***********************]  1 of 1 completed\n",
      "[*********************100%***********************]  1 of 1 completed\n"
     ]
    },
    {
     "name": "stderr",
     "output_type": "stream",
     "text": [
      "<ipython-input-276-d1c6d35f3e1f>:6: SettingWithCopyWarning: \n",
      "A value is trying to be set on a copy of a slice from a DataFrame\n",
      "\n",
      "See the caveats in the documentation: https://pandas.pydata.org/pandas-docs/stable/user_guide/indexing.html#returning-a-view-versus-a-copy\n",
      "  SPY_price['NAV']=SPY_price/SPY_price.iloc[0]\n",
      "<ipython-input-276-d1c6d35f3e1f>:6: SettingWithCopyWarning: \n",
      "A value is trying to be set on a copy of a slice from a DataFrame\n",
      "\n",
      "See the caveats in the documentation: https://pandas.pydata.org/pandas-docs/stable/user_guide/indexing.html#returning-a-view-versus-a-copy\n",
      "  SPY_price['NAV']=SPY_price/SPY_price.iloc[0]\n"
     ]
    },
    {
     "name": "stdout",
     "output_type": "stream",
     "text": [
      "[*********************100%***********************]  1 of 1 completed\n"
     ]
    },
    {
     "name": "stderr",
     "output_type": "stream",
     "text": [
      "<ipython-input-276-d1c6d35f3e1f>:6: SettingWithCopyWarning: \n",
      "A value is trying to be set on a copy of a slice from a DataFrame\n",
      "\n",
      "See the caveats in the documentation: https://pandas.pydata.org/pandas-docs/stable/user_guide/indexing.html#returning-a-view-versus-a-copy\n",
      "  SPY_price['NAV']=SPY_price/SPY_price.iloc[0]\n"
     ]
    },
    {
     "name": "stdout",
     "output_type": "stream",
     "text": [
      "[*********************100%***********************]  1 of 1 completed\n",
      "[*********************100%***********************]  1 of 1 completed\n"
     ]
    },
    {
     "name": "stderr",
     "output_type": "stream",
     "text": [
      "<ipython-input-276-d1c6d35f3e1f>:6: SettingWithCopyWarning: \n",
      "A value is trying to be set on a copy of a slice from a DataFrame\n",
      "\n",
      "See the caveats in the documentation: https://pandas.pydata.org/pandas-docs/stable/user_guide/indexing.html#returning-a-view-versus-a-copy\n",
      "  SPY_price['NAV']=SPY_price/SPY_price.iloc[0]\n",
      "<ipython-input-276-d1c6d35f3e1f>:6: SettingWithCopyWarning: \n",
      "A value is trying to be set on a copy of a slice from a DataFrame\n",
      "\n",
      "See the caveats in the documentation: https://pandas.pydata.org/pandas-docs/stable/user_guide/indexing.html#returning-a-view-versus-a-copy\n",
      "  SPY_price['NAV']=SPY_price/SPY_price.iloc[0]\n"
     ]
    }
   ],
   "source": [
    "WSB=performance_wsb()"
   ]
  },
  {
   "cell_type": "code",
   "execution_count": 281,
   "metadata": {
    "collapsed": true
   },
   "outputs": [
    {
     "name": "stdout",
     "output_type": "stream",
     "text": [
      "[*********************100%***********************]  1 of 1 completed\n"
     ]
    },
    {
     "name": "stderr",
     "output_type": "stream",
     "text": [
      "<ipython-input-276-d1c6d35f3e1f>:6: SettingWithCopyWarning: \n",
      "A value is trying to be set on a copy of a slice from a DataFrame\n",
      "\n",
      "See the caveats in the documentation: https://pandas.pydata.org/pandas-docs/stable/user_guide/indexing.html#returning-a-view-versus-a-copy\n",
      "  SPY_price['NAV']=SPY_price/SPY_price.iloc[0]\n"
     ]
    },
    {
     "name": "stdout",
     "output_type": "stream",
     "text": [
      "[*********************100%***********************]  1 of 1 completed\n"
     ]
    },
    {
     "name": "stderr",
     "output_type": "stream",
     "text": [
      "<ipython-input-276-d1c6d35f3e1f>:6: SettingWithCopyWarning: \n",
      "A value is trying to be set on a copy of a slice from a DataFrame\n",
      "\n",
      "See the caveats in the documentation: https://pandas.pydata.org/pandas-docs/stable/user_guide/indexing.html#returning-a-view-versus-a-copy\n",
      "  SPY_price['NAV']=SPY_price/SPY_price.iloc[0]\n"
     ]
    },
    {
     "name": "stdout",
     "output_type": "stream",
     "text": [
      "[*********************100%***********************]  1 of 1 completed\n"
     ]
    },
    {
     "name": "stderr",
     "output_type": "stream",
     "text": [
      "<ipython-input-276-d1c6d35f3e1f>:6: SettingWithCopyWarning: \n",
      "A value is trying to be set on a copy of a slice from a DataFrame\n",
      "\n",
      "See the caveats in the documentation: https://pandas.pydata.org/pandas-docs/stable/user_guide/indexing.html#returning-a-view-versus-a-copy\n",
      "  SPY_price['NAV']=SPY_price/SPY_price.iloc[0]\n"
     ]
    },
    {
     "name": "stdout",
     "output_type": "stream",
     "text": [
      "[*********************100%***********************]  1 of 1 completed\n",
      "[*********************100%***********************]  1 of 1 completed"
     ]
    },
    {
     "name": "stderr",
     "output_type": "stream",
     "text": [
      "<ipython-input-276-d1c6d35f3e1f>:6: SettingWithCopyWarning: \n",
      "A value is trying to be set on a copy of a slice from a DataFrame\n",
      "\n",
      "See the caveats in the documentation: https://pandas.pydata.org/pandas-docs/stable/user_guide/indexing.html#returning-a-view-versus-a-copy\n",
      "  SPY_price['NAV']=SPY_price/SPY_price.iloc[0]\n"
     ]
    },
    {
     "name": "stdout",
     "output_type": "stream",
     "text": [
      "\n"
     ]
    },
    {
     "name": "stderr",
     "output_type": "stream",
     "text": [
      "<ipython-input-276-d1c6d35f3e1f>:6: SettingWithCopyWarning: \n",
      "A value is trying to be set on a copy of a slice from a DataFrame\n",
      "\n",
      "See the caveats in the documentation: https://pandas.pydata.org/pandas-docs/stable/user_guide/indexing.html#returning-a-view-versus-a-copy\n",
      "  SPY_price['NAV']=SPY_price/SPY_price.iloc[0]\n"
     ]
    },
    {
     "name": "stdout",
     "output_type": "stream",
     "text": [
      "[*********************100%***********************]  1 of 1 completed\n",
      "[*********************100%***********************]  1 of 1 completed"
     ]
    },
    {
     "name": "stderr",
     "output_type": "stream",
     "text": [
      "<ipython-input-276-d1c6d35f3e1f>:6: SettingWithCopyWarning: \n",
      "A value is trying to be set on a copy of a slice from a DataFrame\n",
      "\n",
      "See the caveats in the documentation: https://pandas.pydata.org/pandas-docs/stable/user_guide/indexing.html#returning-a-view-versus-a-copy\n",
      "  SPY_price['NAV']=SPY_price/SPY_price.iloc[0]\n"
     ]
    },
    {
     "name": "stdout",
     "output_type": "stream",
     "text": [
      "\n"
     ]
    },
    {
     "name": "stderr",
     "output_type": "stream",
     "text": [
      "<ipython-input-276-d1c6d35f3e1f>:6: SettingWithCopyWarning: \n",
      "A value is trying to be set on a copy of a slice from a DataFrame\n",
      "\n",
      "See the caveats in the documentation: https://pandas.pydata.org/pandas-docs/stable/user_guide/indexing.html#returning-a-view-versus-a-copy\n",
      "  SPY_price['NAV']=SPY_price/SPY_price.iloc[0]\n"
     ]
    },
    {
     "name": "stdout",
     "output_type": "stream",
     "text": [
      "[*********************100%***********************]  1 of 1 completed\n",
      "[*********************100%***********************]  1 of 1 completed\n"
     ]
    },
    {
     "name": "stderr",
     "output_type": "stream",
     "text": [
      "<ipython-input-276-d1c6d35f3e1f>:6: SettingWithCopyWarning: \n",
      "A value is trying to be set on a copy of a slice from a DataFrame\n",
      "\n",
      "See the caveats in the documentation: https://pandas.pydata.org/pandas-docs/stable/user_guide/indexing.html#returning-a-view-versus-a-copy\n",
      "  SPY_price['NAV']=SPY_price/SPY_price.iloc[0]\n",
      "<ipython-input-276-d1c6d35f3e1f>:6: SettingWithCopyWarning: \n",
      "A value is trying to be set on a copy of a slice from a DataFrame\n",
      "\n",
      "See the caveats in the documentation: https://pandas.pydata.org/pandas-docs/stable/user_guide/indexing.html#returning-a-view-versus-a-copy\n",
      "  SPY_price['NAV']=SPY_price/SPY_price.iloc[0]\n"
     ]
    },
    {
     "name": "stdout",
     "output_type": "stream",
     "text": [
      "[*********************100%***********************]  1 of 1 completed\n",
      "[*********************100%***********************]  1 of 1 completed\n"
     ]
    },
    {
     "name": "stderr",
     "output_type": "stream",
     "text": [
      "<ipython-input-276-d1c6d35f3e1f>:6: SettingWithCopyWarning: \n",
      "A value is trying to be set on a copy of a slice from a DataFrame\n",
      "\n",
      "See the caveats in the documentation: https://pandas.pydata.org/pandas-docs/stable/user_guide/indexing.html#returning-a-view-versus-a-copy\n",
      "  SPY_price['NAV']=SPY_price/SPY_price.iloc[0]\n",
      "<ipython-input-276-d1c6d35f3e1f>:6: SettingWithCopyWarning: \n",
      "A value is trying to be set on a copy of a slice from a DataFrame\n",
      "\n",
      "See the caveats in the documentation: https://pandas.pydata.org/pandas-docs/stable/user_guide/indexing.html#returning-a-view-versus-a-copy\n",
      "  SPY_price['NAV']=SPY_price/SPY_price.iloc[0]\n"
     ]
    },
    {
     "name": "stdout",
     "output_type": "stream",
     "text": [
      "[*********************100%***********************]  1 of 1 completed\n"
     ]
    },
    {
     "name": "stderr",
     "output_type": "stream",
     "text": [
      "<ipython-input-276-d1c6d35f3e1f>:6: SettingWithCopyWarning: \n",
      "A value is trying to be set on a copy of a slice from a DataFrame\n",
      "\n",
      "See the caveats in the documentation: https://pandas.pydata.org/pandas-docs/stable/user_guide/indexing.html#returning-a-view-versus-a-copy\n",
      "  SPY_price['NAV']=SPY_price/SPY_price.iloc[0]\n"
     ]
    }
   ],
   "source": [
    "wall_st = performance_wallst()"
   ]
  },
  {
   "cell_type": "markdown",
   "metadata": {},
   "source": [
    "#### Export the Risk Matrices"
   ]
  },
  {
   "cell_type": "code",
   "execution_count": 27,
   "metadata": {
    "collapsed": true
   },
   "outputs": [
    {
     "ename": "NameError",
     "evalue": "name 'wall_st' is not defined",
     "output_type": "error",
     "traceback": [
      "\u001b[1;31m---------------------------------------------------------------------------\u001b[0m",
      "\u001b[1;31mNameError\u001b[0m                                 Traceback (most recent call last)",
      "\u001b[1;32m<ipython-input-27-d8fa99fc17fa>\u001b[0m in \u001b[0;36m<module>\u001b[1;34m\u001b[0m\n\u001b[0;32m      1\u001b[0m \u001b[1;31m#Aggregate the risk matrices into dataframe and output into local drive\u001b[0m\u001b[1;33m\u001b[0m\u001b[1;33m\u001b[0m\u001b[1;33m\u001b[0m\u001b[0m\n\u001b[1;32m----> 2\u001b[1;33m \u001b[0mwall_st_df\u001b[0m \u001b[1;33m=\u001b[0m \u001b[0mwall_st\u001b[0m\u001b[1;33m.\u001b[0m\u001b[0mcopy\u001b[0m\u001b[1;33m(\u001b[0m\u001b[1;33m)\u001b[0m\u001b[1;33m\u001b[0m\u001b[1;33m\u001b[0m\u001b[0m\n\u001b[0m\u001b[0;32m      3\u001b[0m \u001b[0mwall_st_df\u001b[0m\u001b[1;33m.\u001b[0m\u001b[0minsert\u001b[0m\u001b[1;33m(\u001b[0m\u001b[1;36m0\u001b[0m\u001b[1;33m,\u001b[0m\u001b[1;33m[\u001b[0m\u001b[1;34m'HPR'\u001b[0m\u001b[1;33m,\u001b[0m \u001b[1;34m'Standard Deviation'\u001b[0m\u001b[1;33m,\u001b[0m \u001b[1;34m'Continuous Compound Return'\u001b[0m\u001b[1;33m,\u001b[0m \u001b[1;34m'Sharpe Ratio'\u001b[0m\u001b[1;33m,\u001b[0m \u001b[1;34m'Sortino Ratio'\u001b[0m\u001b[1;33m,\u001b[0m \u001b[1;34m'Alpha against SPY'\u001b[0m\u001b[1;33m]\u001b[0m\u001b[1;33m)\u001b[0m\u001b[1;33m\u001b[0m\u001b[1;33m\u001b[0m\u001b[0m\n\u001b[0;32m      4\u001b[0m \u001b[0mcolumn_names\u001b[0m \u001b[1;33m=\u001b[0m \u001b[0mwall_st_df\u001b[0m\u001b[1;33m.\u001b[0m\u001b[0mpop\u001b[0m\u001b[1;33m(\u001b[0m\u001b[1;36m0\u001b[0m\u001b[1;33m)\u001b[0m\u001b[1;33m\u001b[0m\u001b[1;33m\u001b[0m\u001b[0m\n\u001b[0;32m      5\u001b[0m \u001b[0mdf_wall_st\u001b[0m \u001b[1;33m=\u001b[0m \u001b[0mpd\u001b[0m\u001b[1;33m.\u001b[0m\u001b[0mDataFrame\u001b[0m\u001b[1;33m(\u001b[0m\u001b[0mwall_st_df\u001b[0m\u001b[1;33m,\u001b[0m \u001b[0mcolumns\u001b[0m\u001b[1;33m=\u001b[0m\u001b[0mcolumn_names\u001b[0m\u001b[1;33m)\u001b[0m\u001b[1;33m\u001b[0m\u001b[1;33m\u001b[0m\u001b[0m\n",
      "\u001b[1;31mNameError\u001b[0m: name 'wall_st' is not defined"
     ]
    }
   ],
   "source": [
    "#Aggregate the risk matrices into dataframe and output into local drive\n",
    "wall_st_df = wall_st.copy()\n",
    "wall_st_df.insert(0,['HPR', 'Standard Deviation', 'Continuous Compound Return', 'Sharpe Ratio', 'Sortino Ratio', 'Alpha against SPY'])\n",
    "column_names = wall_st_df.pop(0)\n",
    "df_wall_st = pd.DataFrame(wall_st_df, columns=column_names)\n",
    "Index = ['2016 Q1','2016 Q2','2016 Q3', '2016 Q4', '2018 Q1','2018 Q2','2018 Q3','2018 Q4',\n",
    "        '2020 Q1','2020 Q2','2020 Q3','2020 Q4']\n",
    "df_wall_st = df_wall_st.set_index(pd.Index(Index))\n",
    "df_wall_st.to_csv('Wall St Portfolios Performances.csv', index = True, header=True)"
   ]
  },
  {
   "cell_type": "code",
   "execution_count": 283,
   "metadata": {},
   "outputs": [],
   "source": [
    "#Aggregate the risk matrices into dataframe and output into local drive\n",
    "WSB_df = WSB.copy()\n",
    "WSB_df.insert(0,['HPR', 'Standard Deviation', 'Continuous Compound Return', 'Sharpe Ratio', 'Sortino Ratio', 'Alpha against SPY'])\n",
    "column_names = WSB_df.pop(0)\n",
    "df_WSB = pd.DataFrame(WSB_df, columns=column_names)\n",
    "Index = ['2016 Q1','2016 Q2','2016 Q3', '2016 Q4', '2018 Q1','2018 Q2','2018 Q3','2018 Q4',\n",
    "        '2020 Q1','2020 Q2','2020 Q3','2020 Q4']\n",
    "df_WSB = df_WSB.set_index(pd.Index(Index))\n",
    "df_WSB.to_csv('WSB Portfolios Performances.csv', index = True, header=True)"
   ]
  },
  {
   "cell_type": "markdown",
   "metadata": {},
   "source": [
    "### Performance Visualization"
   ]
  },
  {
   "cell_type": "code",
   "execution_count": 28,
   "metadata": {},
   "outputs": [],
   "source": [
    "#Plot the net asset values of WSB and Wall St. portfolios of the same time period\n",
    "def plotting():\n",
    "    for x in range(0, len(nav13f_filenames)):\n",
    "        #Import the backtest results\n",
    "        a = pd.read_csv(nav13f_filenames[x], index_col='Date')\n",
    "        b = pd.read_csv(nav_wsb_filenames[x])\n",
    "        \n",
    "        #Plot a line graph\n",
    "        a['NAV'].plot(figsize=(7,5), color = 'blue')\n",
    "        b['NAV'].plot(figsize=(7,5), color = 'orange')\n",
    "        \n",
    "        title=plot_titles[x]\n",
    "        title_png=title+'.png'\n",
    "        plt.title(title)\n",
    "        plt.xlabel(\"Date\")\n",
    "        plt.ylabel(\"Net Asset Value\")\n",
    "        plt.legend(['Wall St', 'Wallstreetbets'])\n",
    "        \n",
    "        plt.xticks(rotation=30)\n",
    "        plt.savefig(title_png)\n",
    "        plt.close()\n",
    "        plt.cla()\n",
    "        plt.clf()"
   ]
  },
  {
   "cell_type": "code",
   "execution_count": 266,
   "metadata": {},
   "outputs": [
    {
     "data": {
      "text/plain": [
       "<Figure size 432x288 with 0 Axes>"
      ]
     },
     "metadata": {},
     "output_type": "display_data"
    }
   ],
   "source": [
    "plotting()"
   ]
  },
  {
   "cell_type": "markdown",
   "metadata": {},
   "source": [
    "#### Package Set-ups"
   ]
  },
  {
   "cell_type": "code",
   "execution_count": 267,
   "metadata": {},
   "outputs": [],
   "source": [
    "import matplotlib.pyplot as plt\n",
    "import matplotlib\n",
    "import pandas as pd\n",
    "import seaborn as sns\n",
    "%matplotlib inline\n",
    "sns.set(palette=\"rainbow\")"
   ]
  },
  {
   "cell_type": "markdown",
   "metadata": {},
   "source": [
    "#### Import the Risk Analysis Results"
   ]
  },
  {
   "cell_type": "code",
   "execution_count": 344,
   "metadata": {},
   "outputs": [],
   "source": [
    "wallst = pd.read_csv('Wall St Portfolios Performances.csv', index_col='Unnamed: 0')\n",
    "WSBets = pd.read_csv('WSB Portfolios Performances.csv', index_col='Unnamed: 0')"
   ]
  },
  {
   "cell_type": "markdown",
   "metadata": {},
   "source": [
    "#### Plot Side-by-side Comparison of the Risk Matrices of WSB and Wall St. Portfolios"
   ]
  },
  {
   "cell_type": "code",
   "execution_count": 271,
   "metadata": {
    "scrolled": true
   },
   "outputs": [
    {
     "name": "stdout",
     "output_type": "stream",
     "text": [
      "         Wallst_STD  WSBets_STD\n",
      "2016 Q1    0.261202    0.255282\n",
      "2016 Q2    0.293521    0.736818\n",
      "2016 Q3    0.196894    1.477281\n",
      "2016 Q4    0.443659    1.289500\n",
      "2018 Q1    0.089964    0.478896\n",
      "2018 Q2    0.321696    0.547521\n",
      "2018 Q3    0.236302    0.735960\n",
      "2018 Q4    0.313946    0.808513\n",
      "2020 Q1    0.223627    0.674782\n",
      "2020 Q2    0.256657    0.577675\n",
      "2020 Q3    0.185845    0.142221\n",
      "2020 Q4    0.077640    0.354264\n"
     ]
    },
    {
     "data": {
      "image/png": "[encoded data removed]",
      "text/plain": [
       "<Figure size 576x432 with 1 Axes>"
      ]
     },
     "metadata": {},
     "output_type": "display_data"
    }
   ],
   "source": [
    "a=pd.DataFrame()\n",
    "a['Wallst_STD'] = wallst['Standard Deviation']\n",
    "a['WSBets_STD'] = WSBets['Standard Deviation']\n",
    "\n",
    "a.plot(figsize=(8,6), kind = 'bar', color=('blue','orange'))\n",
    "plt.legend(['Wall St', 'Wallstreetbets'])\n",
    "plt.xticks(rotation=30)\n",
    "plt.savefig('Risk comparison.png')\n",
    "plt.ylabel(\"Standard Deviation\")\n",
    "print(a)\n"
   ]
  },
  {
   "cell_type": "code",
   "execution_count": 345,
   "metadata": {
    "scrolled": true
   },
   "outputs": [
    {
     "name": "stdout",
     "output_type": "stream",
     "text": [
      "         Wallst_Sharpe  WSBets_Sharpe\n",
      "2016 Q1       2.578466       3.660430\n",
      "2016 Q2       2.896786       1.565895\n",
      "2016 Q3       3.427857       1.187280\n",
      "2016 Q4       2.149000       1.293867\n",
      "2018 Q1       2.773802       2.119612\n",
      "2018 Q2       1.975652       1.497220\n",
      "2018 Q3       2.152696       1.413221\n",
      "2018 Q4       2.002817       1.495695\n",
      "2020 Q1       1.970035       1.284741\n",
      "2020 Q2       1.907121       1.369644\n",
      "2020 Q3       2.012967       2.062066\n",
      "2020 Q4       3.509274       2.125852\n"
     ]
    },
    {
     "data": {
      "image/png": "[encoded data removed]",
      "text/plain": [
       "<Figure size 576x432 with 1 Axes>"
      ]
     },
     "metadata": {},
     "output_type": "display_data"
    }
   ],
   "source": [
    "a=pd.DataFrame()\n",
    "a['Wallst_Sharpe'] = wallst['Sharpe Ratio']\n",
    "a['WSBets_Sharpe'] = WSBets['Sharpe Ratio']\n",
    "\n",
    "a.plot(figsize=(8,6), kind = 'bar', color=('blue','orange'))\n",
    "plt.legend(['Wall St', 'Wallstreetbets'])\n",
    "plt.xticks(rotation=30)\n",
    "\n",
    "plt.ylabel(\"Sharpe Ratio\")\n",
    "plt.savefig('Sharpe comparison.png')\n",
    "print(a)"
   ]
  },
  {
   "cell_type": "code",
   "execution_count": 346,
   "metadata": {
    "scrolled": true
   },
   "outputs": [
    {
     "name": "stdout",
     "output_type": "stream",
     "text": [
      "         Wallst_Sortino  WSBets_Sortino\n",
      "2016 Q1        1.551345        2.577018\n",
      "2016 Q2        2.043636        1.607569\n",
      "2016 Q3        1.921867        2.051163\n",
      "2016 Q4        2.316363        1.984875\n",
      "2018 Q1        1.350263        2.784662\n",
      "2018 Q2        1.802012        2.001799\n",
      "2018 Q3        2.057244        2.303263\n",
      "2018 Q4        2.266379        2.357098\n",
      "2020 Q1        2.482380        1.098099\n",
      "2020 Q2        2.666473        1.815788\n",
      "2020 Q3        2.109292        1.943446\n",
      "2020 Q4        1.763400        1.245796\n"
     ]
    },
    {
     "data": {
      "image/png": "[encoded data removed]",
      "text/plain": [
       "<Figure size 576x432 with 1 Axes>"
      ]
     },
     "metadata": {},
     "output_type": "display_data"
    }
   ],
   "source": [
    "a=pd.DataFrame()\n",
    "a['Wallst_Sortino'] = wallst['Sortino Ratio']\n",
    "a['WSBets_Sortino'] = WSBets['Sortino Ratio']\n",
    "\n",
    "a.plot(figsize=(8,6), kind = 'bar', color=('blue','orange'))\n",
    "plt.legend(['Wall St', 'Wallstreetbets'])\n",
    "plt.xticks(rotation=30)\n",
    "\n",
    "plt.ylabel(\"Sortino Ratio\")\n",
    "plt.savefig('Sortino comparison.png')\n",
    "print(a)"
   ]
  },
  {
   "cell_type": "code",
   "execution_count": 320,
   "metadata": {
    "scrolled": true
   },
   "outputs": [
    {
     "data": {
      "image/png": "[encoded data removed]",
      "text/plain": [
       "<Figure size 576x432 with 1 Axes>"
      ]
     },
     "metadata": {},
     "output_type": "display_data"
    }
   ],
   "source": [
    "a=pd.DataFrame()\n",
    "a['Wallst_alpha'] = wallst['Alpha against SPY']\n",
    "a['WSBets_alpha'] = WSBets['Alpha against SPY']\n",
    "a['Quarter']= wallst['Unnamed: 0']\n",
    "   \n",
    "sc = a.plot(figsize=(8,6),kind=\"scatter\", x='Quarter',y=\"Wallst_alpha\", color=\"b\")\n",
    "a.plot(kind=\"scatter\", x=\"Quarter\",y=\"WSBets_alpha\", color=\"orange\", ax=sc)\n",
    "\n",
    "plt.xticks(rotation=30)\n",
    "plt.ylabel(\"Alpha Against SPY\")\n",
    "# # adding horizontal line in data co-ordinates\n",
    "plt.axhline(0, c='r', ls='--')\n",
    "plt.legend(['Market','Wall St', 'Wallstreetbets'])\n",
    "plt.savefig('Alpha against SPY.png')"
   ]
  },
  {
   "cell_type": "markdown",
   "metadata": {},
   "source": [
    "#### End"
   ]
  }
 ],
 "metadata": {
  "colab": {
   "collapsed_sections": [],
   "name": "Final SEC13f.ipynb",
   "provenance": []
  },
  "kernelspec": {
   "display_name": "Python 3",
   "language": "python",
   "name": "python3"
  },
  "language_info": {
   "codemirror_mode": {
    "name": "ipython",
    "version": 3
   },
   "file_extension": ".py",
   "mimetype": "text/x-python",
   "name": "python",
   "nbconvert_exporter": "python",
   "pygments_lexer": "ipython3",
   "version": "3.8.3"
  }
 },
 "nbformat": 4,
 "nbformat_minor": 5
}
